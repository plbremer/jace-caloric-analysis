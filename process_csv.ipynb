{
 "cells": [
  {
   "cell_type": "code",
   "execution_count": 1,
   "id": "1d125fc3-bba8-4e83-9c8c-bbdf6c470910",
   "metadata": {},
   "outputs": [],
   "source": [
    "import pandas as pd\n",
    "from datetime import datetime,timedelta\n",
    "import plotly.express as px"
   ]
  },
  {
   "cell_type": "code",
   "execution_count": 2,
   "id": "9d11c015-8785-46b1-9767-95f993f9eb1d",
   "metadata": {},
   "outputs": [],
   "source": [
    "physical_constants={\n",
    "    'ml_to_oz':29.5,\n",
    "    'lb_to_kg':0.453592,\n",
    "    'kg_to_target_Cal_min':100,\n",
    "    'kg_to_target_Cal_max':120,\n",
    "    'expressed_caloric_density':18\n",
    "}"
   ]
  },
  {
   "cell_type": "code",
   "execution_count": 3,
   "id": "98587aa3-6d95-4e1e-acea-5f3382b5ceb5",
   "metadata": {},
   "outputs": [],
   "source": [
    "formula_energy_density=pd.DataFrame.from_dict({\n",
    "    'density':[20,24,22],\n",
    "    'first_date':[datetime.strptime(date, '%m/%d/%y') for date in ['7/8/24','8/22/24','8/28/24']],\n",
    "    'last_date':[datetime.strptime(date, '%m/%d/%y') for date in ['8/21/24','8/27/24','8/28/24']]\n",
    "})"
   ]
  },
  {
   "cell_type": "code",
   "execution_count": 4,
   "id": "ea9c8ef5-bd16-4f0a-88da-a46d8882c6d6",
   "metadata": {},
   "outputs": [],
   "source": [
    "formula_path='/Users/pgleasonbremer/coding_projects/jace/jace-caloric-analysis/resources/Jace_formula.csv'\n",
    "expressed_path='/Users/pgleasonbremer/coding_projects/jace/jace-caloric-analysis/resources/Jace_expressed.csv'\n",
    "growth_path='/Users/pgleasonbremer/coding_projects/jace/jace-caloric-analysis/resources/Jace_growth.csv'"
   ]
  },
  {
   "cell_type": "code",
   "execution_count": 5,
   "id": "4b92b318-2323-4b11-bd1b-ef9d98085c90",
   "metadata": {},
   "outputs": [],
   "source": [
    "def convert_time_to_date(df):\n",
    "    df['date']=df['Time'].str.split(', ').str[0]\n",
    "    df=df.drop('Time',axis='columns')\n",
    "    df['date']=pd.to_datetime(df['date'])\n",
    "    return df"
   ]
  },
  {
   "cell_type": "code",
   "execution_count": 6,
   "id": "90209576-73f1-4718-b345-4fa41219516d",
   "metadata": {},
   "outputs": [],
   "source": [
    "def clean_food_df(df,new_volume_name):\n",
    "    df.drop(['Baby','Note'],axis='columns',inplace=True)\n",
    "    df.rename({'Amount (ml)':new_volume_name},axis='columns',inplace=True)\n",
    "    df=df.groupby('date').sum()\n",
    "    df=df.reset_index()\n",
    "    return df"
   ]
  },
  {
   "cell_type": "code",
   "execution_count": 7,
   "id": "c5a12d79-19b9-41df-9df1-e3ae12eb01c9",
   "metadata": {},
   "outputs": [],
   "source": [
    "def insert_formula_density(df,formula_density):\n",
    "    formula_densities=[]\n",
    "    for index,series in df.iterrows():\n",
    "        target_date_formula_energy_density=formula_density.loc[\n",
    "            (formula_density['first_date'] <= series['date']) &\n",
    "            (formula_density['last_date'] >= series['date'])\n",
    "        ].reset_index().at[0,'density']\n",
    "        formula_densities.append(int(target_date_formula_energy_density))\n",
    "        \n",
    "    df['formula_density']=formula_densities\n",
    "    return df"
   ]
  },
  {
   "cell_type": "code",
   "execution_count": 8,
   "id": "655cb390-154e-43e7-9272-e6519a429dec",
   "metadata": {},
   "outputs": [],
   "source": [
    "def clean_growth_df(growth_df):\n",
    "    growth_df.drop(['Baby','Length (inches)','Head Size (inches)','Note'],axis='columns',inplace=True)\n",
    "    growth_df.rename({'Weight (lbs.)':'weight_lbs'},axis='columns',inplace=True)\n",
    "    return growth_df"
   ]
  },
  {
   "cell_type": "code",
   "execution_count": 9,
   "id": "2c9e2432-215e-4f41-92be-708aecae3aeb",
   "metadata": {},
   "outputs": [],
   "source": [
    "def interpolate_weights(food_df,growth_df):\n",
    "    '''\n",
    "    uses the food df to determine upper and lower bounds for weights\n",
    "\n",
    "    assume all days have a weight\n",
    "    '''\n",
    "    weight_lbs=[]\n",
    "    start_date=food_df.at[0,'date']\n",
    "    end_date=food_df.at[len(food_df.index)-1,'date']\n",
    "\n",
    "    dates=[]\n",
    "    weights=[]\n",
    "\n",
    "    \n",
    "    current_date=start_date\n",
    "    while current_date<=end_date:\n",
    "\n",
    "        # print(current_date)\n",
    "        dates.append(current_date)\n",
    "\n",
    "        # if current_date in growth_df['date'].values:\n",
    "        #     exact_value = growth_df.loc[growth_df['date'] == current_date].reset_index().at[0,'Weight (lbs.)']\n",
    "        #     # weights.append(exact_value)  # Since the same date would be used twice, the weighted average is just the value itself\n",
    "        #     print(f'{current_date} {exact_value}')\n",
    "\n",
    "        # else:\n",
    "        #     # growth_df.locgrowth_df['date'] <= current_date]    .reset_index().at[growth_df.loc[growth_df['date'] <= current_date].reset_index().index[-1],'date']    #     # growth_df.locgrowth_df['date'] > current_date].reset_index().at[0,'date']\n",
    "        #     previous_date=growth_df.loc[growth_df['date'] < current_date].reset_index().at[0,'date']\n",
    "        #     # next_date=growth_df.loc[growth_df['date'] > current_date].reset_index().at[0,'date']\n",
    "        #     print\n",
    "        #     print(f'{current_date} {previous_date} {next_date}')\n",
    "\n",
    "        weights.append(growth_df.loc[growth_df['date']<current_date].reset_index().at[0,'weight_lbs'])\n",
    "        # hold=input('hold')[next_date = \n",
    "\n",
    "        current_date+=timedelta(days=1)\n",
    "\n",
    "    return pd.DataFrame.from_dict({'weight_lbs':weights,'date':dates})\n",
    "        "
   ]
  },
  {
   "cell_type": "code",
   "execution_count": 26,
   "id": "8459c817-8742-462a-929c-f04e3629e4bd",
   "metadata": {},
   "outputs": [
    {
     "name": "stderr",
     "output_type": "stream",
     "text": [
      "/var/folders/3f/wvdgpt711h7dr3_my_kjhw2h0000gp/T/ipykernel_59579/3504315389.py:4: UserWarning:\n",
      "\n",
      "Could not infer format, so each element will be parsed individually, falling back to `dateutil`. To ensure parsing is consistent and as-expected, please specify a format.\n",
      "\n",
      "/var/folders/3f/wvdgpt711h7dr3_my_kjhw2h0000gp/T/ipykernel_59579/3504315389.py:4: UserWarning:\n",
      "\n",
      "Could not infer format, so each element will be parsed individually, falling back to `dateutil`. To ensure parsing is consistent and as-expected, please specify a format.\n",
      "\n",
      "/var/folders/3f/wvdgpt711h7dr3_my_kjhw2h0000gp/T/ipykernel_59579/3504315389.py:4: UserWarning:\n",
      "\n",
      "Could not infer format, so each element will be parsed individually, falling back to `dateutil`. To ensure parsing is consistent and as-expected, please specify a format.\n",
      "\n"
     ]
    }
   ],
   "source": [
    "formula_df=pd.read_csv(formula_path)\n",
    "expressed_df=pd.read_csv(expressed_path)\n",
    "growth_df=pd.read_csv(growth_path)\n",
    "\n",
    "formula_df=convert_time_to_date(formula_df)\n",
    "formula_df=clean_food_df(formula_df,'mL_formula')\n",
    "\n",
    "expressed_df=convert_time_to_date(expressed_df)\n",
    "expressed_df=clean_food_df(expressed_df,'mL_expressed')\n",
    "\n",
    "formula_df=insert_formula_density(formula_df,formula_energy_density)\n",
    "\n",
    "growth_df=convert_time_to_date(growth_df)\n",
    "growth_df=clean_growth_df(growth_df)\n",
    "\n",
    "growth_df=interpolate_weights(formula_df,growth_df)\n",
    "\n",
    "\n",
    "overall_df=expressed_df.merge(formula_df,how='inner',on='date')\n",
    "overall_df=overall_df.merge(growth_df,how='inner',on='date')\n",
    "overall_df['consumed_calories']=(overall_df['formula_density']*overall_df['mL_formula']/physical_constants['ml_to_oz'])+(physical_constants['expressed_caloric_density']*overall_df['mL_expressed']/physical_constants['ml_to_oz'])\n",
    "\n",
    "overall_df['target_calories_max']=overall_df['weight_lbs']*physical_constants['lb_to_kg']*physical_constants['kg_to_target_Cal_max']\n",
    "overall_df['target_calories_min']=overall_df['weight_lbs']*physical_constants['lb_to_kg']*physical_constants['kg_to_target_Cal_min']\n",
    "\n",
    "overall_df['consumed_cal_as_percent_of_min']=100*overall_df['consumed_calories']/overall_df['target_calories_min']"
   ]
  },
  {
   "cell_type": "code",
   "execution_count": 22,
   "id": "68959db6-28f3-4b68-be52-01f3e5cf458f",
   "metadata": {},
   "outputs": [
    {
     "data": {
      "text/html": [
       "<div>\n",
       "<style scoped>\n",
       "    .dataframe tbody tr th:only-of-type {\n",
       "        vertical-align: middle;\n",
       "    }\n",
       "\n",
       "    .dataframe tbody tr th {\n",
       "        vertical-align: top;\n",
       "    }\n",
       "\n",
       "    .dataframe thead th {\n",
       "        text-align: right;\n",
       "    }\n",
       "</style>\n",
       "<table border=\"1\" class=\"dataframe\">\n",
       "  <thead>\n",
       "    <tr style=\"text-align: right;\">\n",
       "      <th></th>\n",
       "      <th>date</th>\n",
       "      <th>mL_expressed</th>\n",
       "      <th>mL_formula</th>\n",
       "      <th>formula_density</th>\n",
       "      <th>weight_lbs</th>\n",
       "      <th>consumed_calories</th>\n",
       "      <th>target_calories_max</th>\n",
       "      <th>target_calories_min</th>\n",
       "    </tr>\n",
       "  </thead>\n",
       "  <tbody>\n",
       "    <tr>\n",
       "      <th>0</th>\n",
       "      <td>2024-07-08</td>\n",
       "      <td>290</td>\n",
       "      <td>90</td>\n",
       "      <td>20</td>\n",
       "      <td>7.38</td>\n",
       "      <td>237.966102</td>\n",
       "      <td>401.701075</td>\n",
       "      <td>334.750896</td>\n",
       "    </tr>\n",
       "    <tr>\n",
       "      <th>1</th>\n",
       "      <td>2024-07-09</td>\n",
       "      <td>504</td>\n",
       "      <td>42</td>\n",
       "      <td>20</td>\n",
       "      <td>7.19</td>\n",
       "      <td>336.000000</td>\n",
       "      <td>391.359178</td>\n",
       "      <td>326.132648</td>\n",
       "    </tr>\n",
       "    <tr>\n",
       "      <th>2</th>\n",
       "      <td>2024-07-10</td>\n",
       "      <td>593</td>\n",
       "      <td>60</td>\n",
       "      <td>20</td>\n",
       "      <td>7.31</td>\n",
       "      <td>402.508475</td>\n",
       "      <td>397.890902</td>\n",
       "      <td>331.575752</td>\n",
       "    </tr>\n",
       "    <tr>\n",
       "      <th>3</th>\n",
       "      <td>2024-07-11</td>\n",
       "      <td>470</td>\n",
       "      <td>220</td>\n",
       "      <td>20</td>\n",
       "      <td>7.31</td>\n",
       "      <td>435.932203</td>\n",
       "      <td>397.890902</td>\n",
       "      <td>331.575752</td>\n",
       "    </tr>\n",
       "    <tr>\n",
       "      <th>4</th>\n",
       "      <td>2024-07-12</td>\n",
       "      <td>525</td>\n",
       "      <td>125</td>\n",
       "      <td>20</td>\n",
       "      <td>7.31</td>\n",
       "      <td>405.084746</td>\n",
       "      <td>397.890902</td>\n",
       "      <td>331.575752</td>\n",
       "    </tr>\n",
       "    <tr>\n",
       "      <th>5</th>\n",
       "      <td>2024-07-13</td>\n",
       "      <td>640</td>\n",
       "      <td>121</td>\n",
       "      <td>20</td>\n",
       "      <td>7.31</td>\n",
       "      <td>472.542373</td>\n",
       "      <td>397.890902</td>\n",
       "      <td>331.575752</td>\n",
       "    </tr>\n",
       "    <tr>\n",
       "      <th>6</th>\n",
       "      <td>2024-07-14</td>\n",
       "      <td>526</td>\n",
       "      <td>155</td>\n",
       "      <td>20</td>\n",
       "      <td>7.31</td>\n",
       "      <td>426.033898</td>\n",
       "      <td>397.890902</td>\n",
       "      <td>331.575752</td>\n",
       "    </tr>\n",
       "    <tr>\n",
       "      <th>7</th>\n",
       "      <td>2024-07-15</td>\n",
       "      <td>570</td>\n",
       "      <td>155</td>\n",
       "      <td>20</td>\n",
       "      <td>7.31</td>\n",
       "      <td>452.881356</td>\n",
       "      <td>397.890902</td>\n",
       "      <td>331.575752</td>\n",
       "    </tr>\n",
       "    <tr>\n",
       "      <th>8</th>\n",
       "      <td>2024-07-16</td>\n",
       "      <td>525</td>\n",
       "      <td>120</td>\n",
       "      <td>20</td>\n",
       "      <td>7.94</td>\n",
       "      <td>401.694915</td>\n",
       "      <td>432.182458</td>\n",
       "      <td>360.152048</td>\n",
       "    </tr>\n",
       "    <tr>\n",
       "      <th>9</th>\n",
       "      <td>2024-07-17</td>\n",
       "      <td>545</td>\n",
       "      <td>220</td>\n",
       "      <td>20</td>\n",
       "      <td>7.94</td>\n",
       "      <td>481.694915</td>\n",
       "      <td>432.182458</td>\n",
       "      <td>360.152048</td>\n",
       "    </tr>\n",
       "    <tr>\n",
       "      <th>10</th>\n",
       "      <td>2024-07-18</td>\n",
       "      <td>547</td>\n",
       "      <td>135</td>\n",
       "      <td>20</td>\n",
       "      <td>8.19</td>\n",
       "      <td>425.288136</td>\n",
       "      <td>445.790218</td>\n",
       "      <td>371.491848</td>\n",
       "    </tr>\n",
       "    <tr>\n",
       "      <th>11</th>\n",
       "      <td>2024-07-19</td>\n",
       "      <td>550</td>\n",
       "      <td>205</td>\n",
       "      <td>20</td>\n",
       "      <td>8.19</td>\n",
       "      <td>474.576271</td>\n",
       "      <td>445.790218</td>\n",
       "      <td>371.491848</td>\n",
       "    </tr>\n",
       "    <tr>\n",
       "      <th>12</th>\n",
       "      <td>2024-07-20</td>\n",
       "      <td>505</td>\n",
       "      <td>155</td>\n",
       "      <td>20</td>\n",
       "      <td>8.19</td>\n",
       "      <td>413.220339</td>\n",
       "      <td>445.790218</td>\n",
       "      <td>371.491848</td>\n",
       "    </tr>\n",
       "    <tr>\n",
       "      <th>13</th>\n",
       "      <td>2024-07-21</td>\n",
       "      <td>460</td>\n",
       "      <td>230</td>\n",
       "      <td>20</td>\n",
       "      <td>8.19</td>\n",
       "      <td>436.610169</td>\n",
       "      <td>445.790218</td>\n",
       "      <td>371.491848</td>\n",
       "    </tr>\n",
       "    <tr>\n",
       "      <th>14</th>\n",
       "      <td>2024-07-22</td>\n",
       "      <td>670</td>\n",
       "      <td>160</td>\n",
       "      <td>20</td>\n",
       "      <td>8.19</td>\n",
       "      <td>517.288136</td>\n",
       "      <td>445.790218</td>\n",
       "      <td>371.491848</td>\n",
       "    </tr>\n",
       "    <tr>\n",
       "      <th>15</th>\n",
       "      <td>2024-07-23</td>\n",
       "      <td>620</td>\n",
       "      <td>190</td>\n",
       "      <td>20</td>\n",
       "      <td>8.19</td>\n",
       "      <td>507.118644</td>\n",
       "      <td>445.790218</td>\n",
       "      <td>371.491848</td>\n",
       "    </tr>\n",
       "    <tr>\n",
       "      <th>16</th>\n",
       "      <td>2024-07-24</td>\n",
       "      <td>570</td>\n",
       "      <td>180</td>\n",
       "      <td>20</td>\n",
       "      <td>8.19</td>\n",
       "      <td>469.830508</td>\n",
       "      <td>445.790218</td>\n",
       "      <td>371.491848</td>\n",
       "    </tr>\n",
       "    <tr>\n",
       "      <th>17</th>\n",
       "      <td>2024-07-25</td>\n",
       "      <td>580</td>\n",
       "      <td>225</td>\n",
       "      <td>20</td>\n",
       "      <td>8.19</td>\n",
       "      <td>506.440678</td>\n",
       "      <td>445.790218</td>\n",
       "      <td>371.491848</td>\n",
       "    </tr>\n",
       "    <tr>\n",
       "      <th>18</th>\n",
       "      <td>2024-07-26</td>\n",
       "      <td>500</td>\n",
       "      <td>170</td>\n",
       "      <td>20</td>\n",
       "      <td>8.19</td>\n",
       "      <td>420.338983</td>\n",
       "      <td>445.790218</td>\n",
       "      <td>371.491848</td>\n",
       "    </tr>\n",
       "    <tr>\n",
       "      <th>19</th>\n",
       "      <td>2024-07-27</td>\n",
       "      <td>512</td>\n",
       "      <td>205</td>\n",
       "      <td>20</td>\n",
       "      <td>8.19</td>\n",
       "      <td>451.389831</td>\n",
       "      <td>445.790218</td>\n",
       "      <td>371.491848</td>\n",
       "    </tr>\n",
       "    <tr>\n",
       "      <th>20</th>\n",
       "      <td>2024-07-28</td>\n",
       "      <td>510</td>\n",
       "      <td>165</td>\n",
       "      <td>20</td>\n",
       "      <td>8.19</td>\n",
       "      <td>423.050847</td>\n",
       "      <td>445.790218</td>\n",
       "      <td>371.491848</td>\n",
       "    </tr>\n",
       "    <tr>\n",
       "      <th>21</th>\n",
       "      <td>2024-07-29</td>\n",
       "      <td>470</td>\n",
       "      <td>255</td>\n",
       "      <td>20</td>\n",
       "      <td>8.19</td>\n",
       "      <td>459.661017</td>\n",
       "      <td>445.790218</td>\n",
       "      <td>371.491848</td>\n",
       "    </tr>\n",
       "    <tr>\n",
       "      <th>22</th>\n",
       "      <td>2024-07-30</td>\n",
       "      <td>435</td>\n",
       "      <td>312</td>\n",
       "      <td>20</td>\n",
       "      <td>8.19</td>\n",
       "      <td>476.949153</td>\n",
       "      <td>445.790218</td>\n",
       "      <td>371.491848</td>\n",
       "    </tr>\n",
       "    <tr>\n",
       "      <th>23</th>\n",
       "      <td>2024-07-31</td>\n",
       "      <td>620</td>\n",
       "      <td>225</td>\n",
       "      <td>20</td>\n",
       "      <td>8.19</td>\n",
       "      <td>530.847458</td>\n",
       "      <td>445.790218</td>\n",
       "      <td>371.491848</td>\n",
       "    </tr>\n",
       "    <tr>\n",
       "      <th>24</th>\n",
       "      <td>2024-08-01</td>\n",
       "      <td>535</td>\n",
       "      <td>145</td>\n",
       "      <td>20</td>\n",
       "      <td>8.19</td>\n",
       "      <td>424.745763</td>\n",
       "      <td>445.790218</td>\n",
       "      <td>371.491848</td>\n",
       "    </tr>\n",
       "    <tr>\n",
       "      <th>25</th>\n",
       "      <td>2024-08-02</td>\n",
       "      <td>630</td>\n",
       "      <td>220</td>\n",
       "      <td>20</td>\n",
       "      <td>9.50</td>\n",
       "      <td>533.559322</td>\n",
       "      <td>517.094880</td>\n",
       "      <td>430.912400</td>\n",
       "    </tr>\n",
       "    <tr>\n",
       "      <th>26</th>\n",
       "      <td>2024-08-03</td>\n",
       "      <td>500</td>\n",
       "      <td>237</td>\n",
       "      <td>20</td>\n",
       "      <td>9.50</td>\n",
       "      <td>465.762712</td>\n",
       "      <td>517.094880</td>\n",
       "      <td>430.912400</td>\n",
       "    </tr>\n",
       "    <tr>\n",
       "      <th>27</th>\n",
       "      <td>2024-08-04</td>\n",
       "      <td>570</td>\n",
       "      <td>130</td>\n",
       "      <td>20</td>\n",
       "      <td>9.50</td>\n",
       "      <td>435.932203</td>\n",
       "      <td>517.094880</td>\n",
       "      <td>430.912400</td>\n",
       "    </tr>\n",
       "    <tr>\n",
       "      <th>28</th>\n",
       "      <td>2024-08-05</td>\n",
       "      <td>635</td>\n",
       "      <td>140</td>\n",
       "      <td>20</td>\n",
       "      <td>9.50</td>\n",
       "      <td>482.372881</td>\n",
       "      <td>517.094880</td>\n",
       "      <td>430.912400</td>\n",
       "    </tr>\n",
       "    <tr>\n",
       "      <th>29</th>\n",
       "      <td>2024-08-06</td>\n",
       "      <td>575</td>\n",
       "      <td>130</td>\n",
       "      <td>20</td>\n",
       "      <td>9.50</td>\n",
       "      <td>438.983051</td>\n",
       "      <td>517.094880</td>\n",
       "      <td>430.912400</td>\n",
       "    </tr>\n",
       "    <tr>\n",
       "      <th>30</th>\n",
       "      <td>2024-08-07</td>\n",
       "      <td>455</td>\n",
       "      <td>235</td>\n",
       "      <td>20</td>\n",
       "      <td>9.50</td>\n",
       "      <td>436.949153</td>\n",
       "      <td>517.094880</td>\n",
       "      <td>430.912400</td>\n",
       "    </tr>\n",
       "    <tr>\n",
       "      <th>31</th>\n",
       "      <td>2024-08-08</td>\n",
       "      <td>385</td>\n",
       "      <td>360</td>\n",
       "      <td>20</td>\n",
       "      <td>9.50</td>\n",
       "      <td>478.983051</td>\n",
       "      <td>517.094880</td>\n",
       "      <td>430.912400</td>\n",
       "    </tr>\n",
       "    <tr>\n",
       "      <th>32</th>\n",
       "      <td>2024-08-09</td>\n",
       "      <td>410</td>\n",
       "      <td>330</td>\n",
       "      <td>20</td>\n",
       "      <td>9.50</td>\n",
       "      <td>473.898305</td>\n",
       "      <td>517.094880</td>\n",
       "      <td>430.912400</td>\n",
       "    </tr>\n",
       "    <tr>\n",
       "      <th>33</th>\n",
       "      <td>2024-08-10</td>\n",
       "      <td>420</td>\n",
       "      <td>415</td>\n",
       "      <td>20</td>\n",
       "      <td>9.50</td>\n",
       "      <td>537.627119</td>\n",
       "      <td>517.094880</td>\n",
       "      <td>430.912400</td>\n",
       "    </tr>\n",
       "    <tr>\n",
       "      <th>34</th>\n",
       "      <td>2024-08-11</td>\n",
       "      <td>450</td>\n",
       "      <td>295</td>\n",
       "      <td>20</td>\n",
       "      <td>9.50</td>\n",
       "      <td>474.576271</td>\n",
       "      <td>517.094880</td>\n",
       "      <td>430.912400</td>\n",
       "    </tr>\n",
       "    <tr>\n",
       "      <th>35</th>\n",
       "      <td>2024-08-12</td>\n",
       "      <td>470</td>\n",
       "      <td>250</td>\n",
       "      <td>20</td>\n",
       "      <td>9.50</td>\n",
       "      <td>456.271186</td>\n",
       "      <td>517.094880</td>\n",
       "      <td>430.912400</td>\n",
       "    </tr>\n",
       "    <tr>\n",
       "      <th>36</th>\n",
       "      <td>2024-08-13</td>\n",
       "      <td>520</td>\n",
       "      <td>325</td>\n",
       "      <td>20</td>\n",
       "      <td>10.56</td>\n",
       "      <td>537.627119</td>\n",
       "      <td>574.791782</td>\n",
       "      <td>478.993152</td>\n",
       "    </tr>\n",
       "    <tr>\n",
       "      <th>37</th>\n",
       "      <td>2024-08-14</td>\n",
       "      <td>370</td>\n",
       "      <td>400</td>\n",
       "      <td>20</td>\n",
       "      <td>10.56</td>\n",
       "      <td>496.949153</td>\n",
       "      <td>574.791782</td>\n",
       "      <td>478.993152</td>\n",
       "    </tr>\n",
       "    <tr>\n",
       "      <th>38</th>\n",
       "      <td>2024-08-15</td>\n",
       "      <td>530</td>\n",
       "      <td>280</td>\n",
       "      <td>20</td>\n",
       "      <td>10.56</td>\n",
       "      <td>513.220339</td>\n",
       "      <td>574.791782</td>\n",
       "      <td>478.993152</td>\n",
       "    </tr>\n",
       "    <tr>\n",
       "      <th>39</th>\n",
       "      <td>2024-08-16</td>\n",
       "      <td>420</td>\n",
       "      <td>300</td>\n",
       "      <td>20</td>\n",
       "      <td>10.56</td>\n",
       "      <td>459.661017</td>\n",
       "      <td>574.791782</td>\n",
       "      <td>478.993152</td>\n",
       "    </tr>\n",
       "    <tr>\n",
       "      <th>40</th>\n",
       "      <td>2024-08-17</td>\n",
       "      <td>420</td>\n",
       "      <td>370</td>\n",
       "      <td>20</td>\n",
       "      <td>10.56</td>\n",
       "      <td>507.118644</td>\n",
       "      <td>574.791782</td>\n",
       "      <td>478.993152</td>\n",
       "    </tr>\n",
       "    <tr>\n",
       "      <th>41</th>\n",
       "      <td>2024-08-18</td>\n",
       "      <td>365</td>\n",
       "      <td>445</td>\n",
       "      <td>20</td>\n",
       "      <td>10.56</td>\n",
       "      <td>524.406780</td>\n",
       "      <td>574.791782</td>\n",
       "      <td>478.993152</td>\n",
       "    </tr>\n",
       "    <tr>\n",
       "      <th>42</th>\n",
       "      <td>2024-08-19</td>\n",
       "      <td>395</td>\n",
       "      <td>355</td>\n",
       "      <td>20</td>\n",
       "      <td>10.56</td>\n",
       "      <td>481.694915</td>\n",
       "      <td>574.791782</td>\n",
       "      <td>478.993152</td>\n",
       "    </tr>\n",
       "    <tr>\n",
       "      <th>43</th>\n",
       "      <td>2024-08-20</td>\n",
       "      <td>445</td>\n",
       "      <td>255</td>\n",
       "      <td>20</td>\n",
       "      <td>10.56</td>\n",
       "      <td>444.406780</td>\n",
       "      <td>574.791782</td>\n",
       "      <td>478.993152</td>\n",
       "    </tr>\n",
       "    <tr>\n",
       "      <th>44</th>\n",
       "      <td>2024-08-21</td>\n",
       "      <td>60</td>\n",
       "      <td>685</td>\n",
       "      <td>20</td>\n",
       "      <td>10.56</td>\n",
       "      <td>501.016949</td>\n",
       "      <td>574.791782</td>\n",
       "      <td>478.993152</td>\n",
       "    </tr>\n",
       "    <tr>\n",
       "      <th>45</th>\n",
       "      <td>2024-08-22</td>\n",
       "      <td>140</td>\n",
       "      <td>540</td>\n",
       "      <td>24</td>\n",
       "      <td>10.75</td>\n",
       "      <td>524.745763</td>\n",
       "      <td>585.133680</td>\n",
       "      <td>487.611400</td>\n",
       "    </tr>\n",
       "    <tr>\n",
       "      <th>46</th>\n",
       "      <td>2024-08-23</td>\n",
       "      <td>55</td>\n",
       "      <td>650</td>\n",
       "      <td>24</td>\n",
       "      <td>10.75</td>\n",
       "      <td>562.372881</td>\n",
       "      <td>585.133680</td>\n",
       "      <td>487.611400</td>\n",
       "    </tr>\n",
       "    <tr>\n",
       "      <th>47</th>\n",
       "      <td>2024-08-24</td>\n",
       "      <td>125</td>\n",
       "      <td>590</td>\n",
       "      <td>24</td>\n",
       "      <td>10.75</td>\n",
       "      <td>556.271186</td>\n",
       "      <td>585.133680</td>\n",
       "      <td>487.611400</td>\n",
       "    </tr>\n",
       "    <tr>\n",
       "      <th>48</th>\n",
       "      <td>2024-08-25</td>\n",
       "      <td>135</td>\n",
       "      <td>550</td>\n",
       "      <td>24</td>\n",
       "      <td>10.75</td>\n",
       "      <td>529.830508</td>\n",
       "      <td>585.133680</td>\n",
       "      <td>487.611400</td>\n",
       "    </tr>\n",
       "    <tr>\n",
       "      <th>49</th>\n",
       "      <td>2024-08-26</td>\n",
       "      <td>10</td>\n",
       "      <td>550</td>\n",
       "      <td>24</td>\n",
       "      <td>10.75</td>\n",
       "      <td>453.559322</td>\n",
       "      <td>585.133680</td>\n",
       "      <td>487.611400</td>\n",
       "    </tr>\n",
       "    <tr>\n",
       "      <th>50</th>\n",
       "      <td>2024-08-27</td>\n",
       "      <td>140</td>\n",
       "      <td>525</td>\n",
       "      <td>24</td>\n",
       "      <td>11.44</td>\n",
       "      <td>512.542373</td>\n",
       "      <td>622.691098</td>\n",
       "      <td>518.909248</td>\n",
       "    </tr>\n",
       "    <tr>\n",
       "      <th>51</th>\n",
       "      <td>2024-08-28</td>\n",
       "      <td>95</td>\n",
       "      <td>485</td>\n",
       "      <td>22</td>\n",
       "      <td>11.44</td>\n",
       "      <td>419.661017</td>\n",
       "      <td>622.691098</td>\n",
       "      <td>518.909248</td>\n",
       "    </tr>\n",
       "  </tbody>\n",
       "</table>\n",
       "</div>"
      ],
      "text/plain": [
       "         date  mL_expressed  mL_formula  formula_density  weight_lbs  \\\n",
       "0  2024-07-08           290          90               20        7.38   \n",
       "1  2024-07-09           504          42               20        7.19   \n",
       "2  2024-07-10           593          60               20        7.31   \n",
       "3  2024-07-11           470         220               20        7.31   \n",
       "4  2024-07-12           525         125               20        7.31   \n",
       "5  2024-07-13           640         121               20        7.31   \n",
       "6  2024-07-14           526         155               20        7.31   \n",
       "7  2024-07-15           570         155               20        7.31   \n",
       "8  2024-07-16           525         120               20        7.94   \n",
       "9  2024-07-17           545         220               20        7.94   \n",
       "10 2024-07-18           547         135               20        8.19   \n",
       "11 2024-07-19           550         205               20        8.19   \n",
       "12 2024-07-20           505         155               20        8.19   \n",
       "13 2024-07-21           460         230               20        8.19   \n",
       "14 2024-07-22           670         160               20        8.19   \n",
       "15 2024-07-23           620         190               20        8.19   \n",
       "16 2024-07-24           570         180               20        8.19   \n",
       "17 2024-07-25           580         225               20        8.19   \n",
       "18 2024-07-26           500         170               20        8.19   \n",
       "19 2024-07-27           512         205               20        8.19   \n",
       "20 2024-07-28           510         165               20        8.19   \n",
       "21 2024-07-29           470         255               20        8.19   \n",
       "22 2024-07-30           435         312               20        8.19   \n",
       "23 2024-07-31           620         225               20        8.19   \n",
       "24 2024-08-01           535         145               20        8.19   \n",
       "25 2024-08-02           630         220               20        9.50   \n",
       "26 2024-08-03           500         237               20        9.50   \n",
       "27 2024-08-04           570         130               20        9.50   \n",
       "28 2024-08-05           635         140               20        9.50   \n",
       "29 2024-08-06           575         130               20        9.50   \n",
       "30 2024-08-07           455         235               20        9.50   \n",
       "31 2024-08-08           385         360               20        9.50   \n",
       "32 2024-08-09           410         330               20        9.50   \n",
       "33 2024-08-10           420         415               20        9.50   \n",
       "34 2024-08-11           450         295               20        9.50   \n",
       "35 2024-08-12           470         250               20        9.50   \n",
       "36 2024-08-13           520         325               20       10.56   \n",
       "37 2024-08-14           370         400               20       10.56   \n",
       "38 2024-08-15           530         280               20       10.56   \n",
       "39 2024-08-16           420         300               20       10.56   \n",
       "40 2024-08-17           420         370               20       10.56   \n",
       "41 2024-08-18           365         445               20       10.56   \n",
       "42 2024-08-19           395         355               20       10.56   \n",
       "43 2024-08-20           445         255               20       10.56   \n",
       "44 2024-08-21            60         685               20       10.56   \n",
       "45 2024-08-22           140         540               24       10.75   \n",
       "46 2024-08-23            55         650               24       10.75   \n",
       "47 2024-08-24           125         590               24       10.75   \n",
       "48 2024-08-25           135         550               24       10.75   \n",
       "49 2024-08-26            10         550               24       10.75   \n",
       "50 2024-08-27           140         525               24       11.44   \n",
       "51 2024-08-28            95         485               22       11.44   \n",
       "\n",
       "    consumed_calories  target_calories_max  target_calories_min  \n",
       "0          237.966102           401.701075           334.750896  \n",
       "1          336.000000           391.359178           326.132648  \n",
       "2          402.508475           397.890902           331.575752  \n",
       "3          435.932203           397.890902           331.575752  \n",
       "4          405.084746           397.890902           331.575752  \n",
       "5          472.542373           397.890902           331.575752  \n",
       "6          426.033898           397.890902           331.575752  \n",
       "7          452.881356           397.890902           331.575752  \n",
       "8          401.694915           432.182458           360.152048  \n",
       "9          481.694915           432.182458           360.152048  \n",
       "10         425.288136           445.790218           371.491848  \n",
       "11         474.576271           445.790218           371.491848  \n",
       "12         413.220339           445.790218           371.491848  \n",
       "13         436.610169           445.790218           371.491848  \n",
       "14         517.288136           445.790218           371.491848  \n",
       "15         507.118644           445.790218           371.491848  \n",
       "16         469.830508           445.790218           371.491848  \n",
       "17         506.440678           445.790218           371.491848  \n",
       "18         420.338983           445.790218           371.491848  \n",
       "19         451.389831           445.790218           371.491848  \n",
       "20         423.050847           445.790218           371.491848  \n",
       "21         459.661017           445.790218           371.491848  \n",
       "22         476.949153           445.790218           371.491848  \n",
       "23         530.847458           445.790218           371.491848  \n",
       "24         424.745763           445.790218           371.491848  \n",
       "25         533.559322           517.094880           430.912400  \n",
       "26         465.762712           517.094880           430.912400  \n",
       "27         435.932203           517.094880           430.912400  \n",
       "28         482.372881           517.094880           430.912400  \n",
       "29         438.983051           517.094880           430.912400  \n",
       "30         436.949153           517.094880           430.912400  \n",
       "31         478.983051           517.094880           430.912400  \n",
       "32         473.898305           517.094880           430.912400  \n",
       "33         537.627119           517.094880           430.912400  \n",
       "34         474.576271           517.094880           430.912400  \n",
       "35         456.271186           517.094880           430.912400  \n",
       "36         537.627119           574.791782           478.993152  \n",
       "37         496.949153           574.791782           478.993152  \n",
       "38         513.220339           574.791782           478.993152  \n",
       "39         459.661017           574.791782           478.993152  \n",
       "40         507.118644           574.791782           478.993152  \n",
       "41         524.406780           574.791782           478.993152  \n",
       "42         481.694915           574.791782           478.993152  \n",
       "43         444.406780           574.791782           478.993152  \n",
       "44         501.016949           574.791782           478.993152  \n",
       "45         524.745763           585.133680           487.611400  \n",
       "46         562.372881           585.133680           487.611400  \n",
       "47         556.271186           585.133680           487.611400  \n",
       "48         529.830508           585.133680           487.611400  \n",
       "49         453.559322           585.133680           487.611400  \n",
       "50         512.542373           622.691098           518.909248  \n",
       "51         419.661017           622.691098           518.909248  "
      ]
     },
     "execution_count": 22,
     "metadata": {},
     "output_type": "execute_result"
    }
   ],
   "source": [
    "overall_df"
   ]
  },
  {
   "cell_type": "code",
   "execution_count": 23,
   "id": "49c13f6c-114c-4118-8f27-1628f4d18a8f",
   "metadata": {},
   "outputs": [],
   "source": [
    "plotly_list_numbers=[]\n",
    "plotly_list_type=[]\n",
    "plotly_list_dates=[]\n",
    "for index,series in overall_df.iterrows():\n",
    "    plotly_list_numbers.append(series['consumed_calories'])\n",
    "    plotly_list_numbers.append(series['target_calories_max'])\n",
    "    plotly_list_numbers.append(series['target_calories_min'])\n",
    "    plotly_list_type.append('consumed_calories')\n",
    "    plotly_list_type.append('target_calories_max')\n",
    "    plotly_list_type.append('target_calories_min')\n",
    "    plotly_list_dates.append(series['date'])\n",
    "    plotly_list_dates.append(series['date'])\n",
    "    plotly_list_dates.append(series['date'])\n",
    "plotly_df=pd.DataFrame.from_dict({'numbers':plotly_list_numbers,'type':plotly_list_type,'date':plotly_list_dates})"
   ]
  },
  {
   "cell_type": "code",
   "execution_count": 25,
   "id": "f9ade62f-1038-4e4b-837f-a8096ebec658",
   "metadata": {},
   "outputs": [
    {
     "data": {
      "application/vnd.plotly.v1+json": {
       "config": {
        "plotlyServerURL": "https://plot.ly"
       },
       "data": [
        {
         "hovertemplate": "type=consumed_calories<br>date=%{x}<br>numbers=%{y}<extra></extra>",
         "legendgroup": "consumed_calories",
         "line": {
          "color": "#636efa",
          "dash": "solid"
         },
         "marker": {
          "symbol": "circle"
         },
         "mode": "lines",
         "name": "consumed_calories",
         "orientation": "v",
         "showlegend": true,
         "type": "scatter",
         "x": [
          "2024-07-08T00:00:00",
          "2024-07-09T00:00:00",
          "2024-07-10T00:00:00",
          "2024-07-11T00:00:00",
          "2024-07-12T00:00:00",
          "2024-07-13T00:00:00",
          "2024-07-14T00:00:00",
          "2024-07-15T00:00:00",
          "2024-07-16T00:00:00",
          "2024-07-17T00:00:00",
          "2024-07-18T00:00:00",
          "2024-07-19T00:00:00",
          "2024-07-20T00:00:00",
          "2024-07-21T00:00:00",
          "2024-07-22T00:00:00",
          "2024-07-23T00:00:00",
          "2024-07-24T00:00:00",
          "2024-07-25T00:00:00",
          "2024-07-26T00:00:00",
          "2024-07-27T00:00:00",
          "2024-07-28T00:00:00",
          "2024-07-29T00:00:00",
          "2024-07-30T00:00:00",
          "2024-07-31T00:00:00",
          "2024-08-01T00:00:00",
          "2024-08-02T00:00:00",
          "2024-08-03T00:00:00",
          "2024-08-04T00:00:00",
          "2024-08-05T00:00:00",
          "2024-08-06T00:00:00",
          "2024-08-07T00:00:00",
          "2024-08-08T00:00:00",
          "2024-08-09T00:00:00",
          "2024-08-10T00:00:00",
          "2024-08-11T00:00:00",
          "2024-08-12T00:00:00",
          "2024-08-13T00:00:00",
          "2024-08-14T00:00:00",
          "2024-08-15T00:00:00",
          "2024-08-16T00:00:00",
          "2024-08-17T00:00:00",
          "2024-08-18T00:00:00",
          "2024-08-19T00:00:00",
          "2024-08-20T00:00:00",
          "2024-08-21T00:00:00",
          "2024-08-22T00:00:00",
          "2024-08-23T00:00:00",
          "2024-08-24T00:00:00",
          "2024-08-25T00:00:00",
          "2024-08-26T00:00:00",
          "2024-08-27T00:00:00",
          "2024-08-28T00:00:00"
         ],
         "xaxis": "x",
         "y": [
          237.96610169491524,
          336,
          402.50847457627117,
          435.93220338983053,
          405.08474576271186,
          472.5423728813559,
          426.03389830508473,
          452.8813559322034,
          401.6949152542373,
          481.69491525423734,
          425.2881355932203,
          474.57627118644064,
          413.22033898305085,
          436.6101694915254,
          517.2881355932203,
          507.1186440677966,
          469.8305084745763,
          506.4406779661017,
          420.33898305084745,
          451.3898305084746,
          423.0508474576271,
          459.66101694915255,
          476.9491525423729,
          530.8474576271186,
          424.7457627118644,
          533.5593220338983,
          465.7627118644068,
          435.93220338983053,
          482.3728813559322,
          438.98305084745766,
          436.9491525423729,
          478.98305084745766,
          473.89830508474574,
          537.6271186440679,
          474.5762711864407,
          456.271186440678,
          537.6271186440678,
          496.9491525423729,
          513.2203389830509,
          459.66101694915255,
          507.1186440677966,
          524.4067796610169,
          481.6949152542373,
          444.4067796610169,
          501.0169491525424,
          524.7457627118645,
          562.3728813559322,
          556.271186440678,
          529.8305084745763,
          453.5593220338983,
          512.542372881356,
          419.66101694915255
         ],
         "yaxis": "y"
        },
        {
         "hovertemplate": "type=target_calories_max<br>date=%{x}<br>numbers=%{y}<extra></extra>",
         "legendgroup": "target_calories_max",
         "line": {
          "color": "#EF553B",
          "dash": "solid"
         },
         "marker": {
          "symbol": "circle"
         },
         "mode": "lines",
         "name": "target_calories_max",
         "orientation": "v",
         "showlegend": true,
         "type": "scatter",
         "x": [
          "2024-07-08T00:00:00",
          "2024-07-09T00:00:00",
          "2024-07-10T00:00:00",
          "2024-07-11T00:00:00",
          "2024-07-12T00:00:00",
          "2024-07-13T00:00:00",
          "2024-07-14T00:00:00",
          "2024-07-15T00:00:00",
          "2024-07-16T00:00:00",
          "2024-07-17T00:00:00",
          "2024-07-18T00:00:00",
          "2024-07-19T00:00:00",
          "2024-07-20T00:00:00",
          "2024-07-21T00:00:00",
          "2024-07-22T00:00:00",
          "2024-07-23T00:00:00",
          "2024-07-24T00:00:00",
          "2024-07-25T00:00:00",
          "2024-07-26T00:00:00",
          "2024-07-27T00:00:00",
          "2024-07-28T00:00:00",
          "2024-07-29T00:00:00",
          "2024-07-30T00:00:00",
          "2024-07-31T00:00:00",
          "2024-08-01T00:00:00",
          "2024-08-02T00:00:00",
          "2024-08-03T00:00:00",
          "2024-08-04T00:00:00",
          "2024-08-05T00:00:00",
          "2024-08-06T00:00:00",
          "2024-08-07T00:00:00",
          "2024-08-08T00:00:00",
          "2024-08-09T00:00:00",
          "2024-08-10T00:00:00",
          "2024-08-11T00:00:00",
          "2024-08-12T00:00:00",
          "2024-08-13T00:00:00",
          "2024-08-14T00:00:00",
          "2024-08-15T00:00:00",
          "2024-08-16T00:00:00",
          "2024-08-17T00:00:00",
          "2024-08-18T00:00:00",
          "2024-08-19T00:00:00",
          "2024-08-20T00:00:00",
          "2024-08-21T00:00:00",
          "2024-08-22T00:00:00",
          "2024-08-23T00:00:00",
          "2024-08-24T00:00:00",
          "2024-08-25T00:00:00",
          "2024-08-26T00:00:00",
          "2024-08-27T00:00:00",
          "2024-08-28T00:00:00"
         ],
         "xaxis": "x",
         "y": [
          401.7010752,
          391.3591776,
          397.89090239999996,
          397.89090239999996,
          397.89090239999996,
          397.89090239999996,
          397.89090239999996,
          397.89090239999996,
          432.1824576,
          432.1824576,
          445.79021759999995,
          445.79021759999995,
          445.79021759999995,
          445.79021759999995,
          445.79021759999995,
          445.79021759999995,
          445.79021759999995,
          445.79021759999995,
          445.79021759999995,
          445.79021759999995,
          445.79021759999995,
          445.79021759999995,
          445.79021759999995,
          445.79021759999995,
          445.79021759999995,
          517.09488,
          517.09488,
          517.09488,
          517.09488,
          517.09488,
          517.09488,
          517.09488,
          517.09488,
          517.09488,
          517.09488,
          517.09488,
          574.7917824000001,
          574.7917824000001,
          574.7917824000001,
          574.7917824000001,
          574.7917824000001,
          574.7917824000001,
          574.7917824000001,
          574.7917824000001,
          574.7917824000001,
          585.13368,
          585.13368,
          585.13368,
          585.13368,
          585.13368,
          622.6910975999999,
          622.6910975999999
         ],
         "yaxis": "y"
        },
        {
         "hovertemplate": "type=target_calories_min<br>date=%{x}<br>numbers=%{y}<extra></extra>",
         "legendgroup": "target_calories_min",
         "line": {
          "color": "#00cc96",
          "dash": "solid"
         },
         "marker": {
          "symbol": "circle"
         },
         "mode": "lines",
         "name": "target_calories_min",
         "orientation": "v",
         "showlegend": true,
         "type": "scatter",
         "x": [
          "2024-07-08T00:00:00",
          "2024-07-09T00:00:00",
          "2024-07-10T00:00:00",
          "2024-07-11T00:00:00",
          "2024-07-12T00:00:00",
          "2024-07-13T00:00:00",
          "2024-07-14T00:00:00",
          "2024-07-15T00:00:00",
          "2024-07-16T00:00:00",
          "2024-07-17T00:00:00",
          "2024-07-18T00:00:00",
          "2024-07-19T00:00:00",
          "2024-07-20T00:00:00",
          "2024-07-21T00:00:00",
          "2024-07-22T00:00:00",
          "2024-07-23T00:00:00",
          "2024-07-24T00:00:00",
          "2024-07-25T00:00:00",
          "2024-07-26T00:00:00",
          "2024-07-27T00:00:00",
          "2024-07-28T00:00:00",
          "2024-07-29T00:00:00",
          "2024-07-30T00:00:00",
          "2024-07-31T00:00:00",
          "2024-08-01T00:00:00",
          "2024-08-02T00:00:00",
          "2024-08-03T00:00:00",
          "2024-08-04T00:00:00",
          "2024-08-05T00:00:00",
          "2024-08-06T00:00:00",
          "2024-08-07T00:00:00",
          "2024-08-08T00:00:00",
          "2024-08-09T00:00:00",
          "2024-08-10T00:00:00",
          "2024-08-11T00:00:00",
          "2024-08-12T00:00:00",
          "2024-08-13T00:00:00",
          "2024-08-14T00:00:00",
          "2024-08-15T00:00:00",
          "2024-08-16T00:00:00",
          "2024-08-17T00:00:00",
          "2024-08-18T00:00:00",
          "2024-08-19T00:00:00",
          "2024-08-20T00:00:00",
          "2024-08-21T00:00:00",
          "2024-08-22T00:00:00",
          "2024-08-23T00:00:00",
          "2024-08-24T00:00:00",
          "2024-08-25T00:00:00",
          "2024-08-26T00:00:00",
          "2024-08-27T00:00:00",
          "2024-08-28T00:00:00"
         ],
         "xaxis": "x",
         "y": [
          334.750896,
          326.132648,
          331.57575199999997,
          331.57575199999997,
          331.57575199999997,
          331.57575199999997,
          331.57575199999997,
          331.57575199999997,
          360.152048,
          360.152048,
          371.49184799999995,
          371.49184799999995,
          371.49184799999995,
          371.49184799999995,
          371.49184799999995,
          371.49184799999995,
          371.49184799999995,
          371.49184799999995,
          371.49184799999995,
          371.49184799999995,
          371.49184799999995,
          371.49184799999995,
          371.49184799999995,
          371.49184799999995,
          371.49184799999995,
          430.9124,
          430.9124,
          430.9124,
          430.9124,
          430.9124,
          430.9124,
          430.9124,
          430.9124,
          430.9124,
          430.9124,
          430.9124,
          478.99315200000007,
          478.99315200000007,
          478.99315200000007,
          478.99315200000007,
          478.99315200000007,
          478.99315200000007,
          478.99315200000007,
          478.99315200000007,
          478.99315200000007,
          487.6114,
          487.6114,
          487.6114,
          487.6114,
          487.6114,
          518.9092479999999,
          518.9092479999999
         ],
         "yaxis": "y"
        }
       ],
       "layout": {
        "autosize": true,
        "legend": {
         "title": {
          "text": "type"
         },
         "tracegroupgap": 0
        },
        "margin": {
         "t": 60
        },
        "template": {
         "data": {
          "bar": [
           {
            "error_x": {
             "color": "#2a3f5f"
            },
            "error_y": {
             "color": "#2a3f5f"
            },
            "marker": {
             "line": {
              "color": "#E5ECF6",
              "width": 0.5
             },
             "pattern": {
              "fillmode": "overlay",
              "size": 10,
              "solidity": 0.2
             }
            },
            "type": "bar"
           }
          ],
          "barpolar": [
           {
            "marker": {
             "line": {
              "color": "#E5ECF6",
              "width": 0.5
             },
             "pattern": {
              "fillmode": "overlay",
              "size": 10,
              "solidity": 0.2
             }
            },
            "type": "barpolar"
           }
          ],
          "carpet": [
           {
            "aaxis": {
             "endlinecolor": "#2a3f5f",
             "gridcolor": "white",
             "linecolor": "white",
             "minorgridcolor": "white",
             "startlinecolor": "#2a3f5f"
            },
            "baxis": {
             "endlinecolor": "#2a3f5f",
             "gridcolor": "white",
             "linecolor": "white",
             "minorgridcolor": "white",
             "startlinecolor": "#2a3f5f"
            },
            "type": "carpet"
           }
          ],
          "choropleth": [
           {
            "colorbar": {
             "outlinewidth": 0,
             "ticks": ""
            },
            "type": "choropleth"
           }
          ],
          "contour": [
           {
            "colorbar": {
             "outlinewidth": 0,
             "ticks": ""
            },
            "colorscale": [
             [
              0,
              "#0d0887"
             ],
             [
              0.1111111111111111,
              "#46039f"
             ],
             [
              0.2222222222222222,
              "#7201a8"
             ],
             [
              0.3333333333333333,
              "#9c179e"
             ],
             [
              0.4444444444444444,
              "#bd3786"
             ],
             [
              0.5555555555555556,
              "#d8576b"
             ],
             [
              0.6666666666666666,
              "#ed7953"
             ],
             [
              0.7777777777777778,
              "#fb9f3a"
             ],
             [
              0.8888888888888888,
              "#fdca26"
             ],
             [
              1,
              "#f0f921"
             ]
            ],
            "type": "contour"
           }
          ],
          "contourcarpet": [
           {
            "colorbar": {
             "outlinewidth": 0,
             "ticks": ""
            },
            "type": "contourcarpet"
           }
          ],
          "heatmap": [
           {
            "colorbar": {
             "outlinewidth": 0,
             "ticks": ""
            },
            "colorscale": [
             [
              0,
              "#0d0887"
             ],
             [
              0.1111111111111111,
              "#46039f"
             ],
             [
              0.2222222222222222,
              "#7201a8"
             ],
             [
              0.3333333333333333,
              "#9c179e"
             ],
             [
              0.4444444444444444,
              "#bd3786"
             ],
             [
              0.5555555555555556,
              "#d8576b"
             ],
             [
              0.6666666666666666,
              "#ed7953"
             ],
             [
              0.7777777777777778,
              "#fb9f3a"
             ],
             [
              0.8888888888888888,
              "#fdca26"
             ],
             [
              1,
              "#f0f921"
             ]
            ],
            "type": "heatmap"
           }
          ],
          "heatmapgl": [
           {
            "colorbar": {
             "outlinewidth": 0,
             "ticks": ""
            },
            "colorscale": [
             [
              0,
              "#0d0887"
             ],
             [
              0.1111111111111111,
              "#46039f"
             ],
             [
              0.2222222222222222,
              "#7201a8"
             ],
             [
              0.3333333333333333,
              "#9c179e"
             ],
             [
              0.4444444444444444,
              "#bd3786"
             ],
             [
              0.5555555555555556,
              "#d8576b"
             ],
             [
              0.6666666666666666,
              "#ed7953"
             ],
             [
              0.7777777777777778,
              "#fb9f3a"
             ],
             [
              0.8888888888888888,
              "#fdca26"
             ],
             [
              1,
              "#f0f921"
             ]
            ],
            "type": "heatmapgl"
           }
          ],
          "histogram": [
           {
            "marker": {
             "pattern": {
              "fillmode": "overlay",
              "size": 10,
              "solidity": 0.2
             }
            },
            "type": "histogram"
           }
          ],
          "histogram2d": [
           {
            "colorbar": {
             "outlinewidth": 0,
             "ticks": ""
            },
            "colorscale": [
             [
              0,
              "#0d0887"
             ],
             [
              0.1111111111111111,
              "#46039f"
             ],
             [
              0.2222222222222222,
              "#7201a8"
             ],
             [
              0.3333333333333333,
              "#9c179e"
             ],
             [
              0.4444444444444444,
              "#bd3786"
             ],
             [
              0.5555555555555556,
              "#d8576b"
             ],
             [
              0.6666666666666666,
              "#ed7953"
             ],
             [
              0.7777777777777778,
              "#fb9f3a"
             ],
             [
              0.8888888888888888,
              "#fdca26"
             ],
             [
              1,
              "#f0f921"
             ]
            ],
            "type": "histogram2d"
           }
          ],
          "histogram2dcontour": [
           {
            "colorbar": {
             "outlinewidth": 0,
             "ticks": ""
            },
            "colorscale": [
             [
              0,
              "#0d0887"
             ],
             [
              0.1111111111111111,
              "#46039f"
             ],
             [
              0.2222222222222222,
              "#7201a8"
             ],
             [
              0.3333333333333333,
              "#9c179e"
             ],
             [
              0.4444444444444444,
              "#bd3786"
             ],
             [
              0.5555555555555556,
              "#d8576b"
             ],
             [
              0.6666666666666666,
              "#ed7953"
             ],
             [
              0.7777777777777778,
              "#fb9f3a"
             ],
             [
              0.8888888888888888,
              "#fdca26"
             ],
             [
              1,
              "#f0f921"
             ]
            ],
            "type": "histogram2dcontour"
           }
          ],
          "mesh3d": [
           {
            "colorbar": {
             "outlinewidth": 0,
             "ticks": ""
            },
            "type": "mesh3d"
           }
          ],
          "parcoords": [
           {
            "line": {
             "colorbar": {
              "outlinewidth": 0,
              "ticks": ""
             }
            },
            "type": "parcoords"
           }
          ],
          "pie": [
           {
            "automargin": true,
            "type": "pie"
           }
          ],
          "scatter": [
           {
            "fillpattern": {
             "fillmode": "overlay",
             "size": 10,
             "solidity": 0.2
            },
            "type": "scatter"
           }
          ],
          "scatter3d": [
           {
            "line": {
             "colorbar": {
              "outlinewidth": 0,
              "ticks": ""
             }
            },
            "marker": {
             "colorbar": {
              "outlinewidth": 0,
              "ticks": ""
             }
            },
            "type": "scatter3d"
           }
          ],
          "scattercarpet": [
           {
            "marker": {
             "colorbar": {
              "outlinewidth": 0,
              "ticks": ""
             }
            },
            "type": "scattercarpet"
           }
          ],
          "scattergeo": [
           {
            "marker": {
             "colorbar": {
              "outlinewidth": 0,
              "ticks": ""
             }
            },
            "type": "scattergeo"
           }
          ],
          "scattergl": [
           {
            "marker": {
             "colorbar": {
              "outlinewidth": 0,
              "ticks": ""
             }
            },
            "type": "scattergl"
           }
          ],
          "scattermapbox": [
           {
            "marker": {
             "colorbar": {
              "outlinewidth": 0,
              "ticks": ""
             }
            },
            "type": "scattermapbox"
           }
          ],
          "scatterpolar": [
           {
            "marker": {
             "colorbar": {
              "outlinewidth": 0,
              "ticks": ""
             }
            },
            "type": "scatterpolar"
           }
          ],
          "scatterpolargl": [
           {
            "marker": {
             "colorbar": {
              "outlinewidth": 0,
              "ticks": ""
             }
            },
            "type": "scatterpolargl"
           }
          ],
          "scatterternary": [
           {
            "marker": {
             "colorbar": {
              "outlinewidth": 0,
              "ticks": ""
             }
            },
            "type": "scatterternary"
           }
          ],
          "surface": [
           {
            "colorbar": {
             "outlinewidth": 0,
             "ticks": ""
            },
            "colorscale": [
             [
              0,
              "#0d0887"
             ],
             [
              0.1111111111111111,
              "#46039f"
             ],
             [
              0.2222222222222222,
              "#7201a8"
             ],
             [
              0.3333333333333333,
              "#9c179e"
             ],
             [
              0.4444444444444444,
              "#bd3786"
             ],
             [
              0.5555555555555556,
              "#d8576b"
             ],
             [
              0.6666666666666666,
              "#ed7953"
             ],
             [
              0.7777777777777778,
              "#fb9f3a"
             ],
             [
              0.8888888888888888,
              "#fdca26"
             ],
             [
              1,
              "#f0f921"
             ]
            ],
            "type": "surface"
           }
          ],
          "table": [
           {
            "cells": {
             "fill": {
              "color": "#EBF0F8"
             },
             "line": {
              "color": "white"
             }
            },
            "header": {
             "fill": {
              "color": "#C8D4E3"
             },
             "line": {
              "color": "white"
             }
            },
            "type": "table"
           }
          ]
         },
         "layout": {
          "annotationdefaults": {
           "arrowcolor": "#2a3f5f",
           "arrowhead": 0,
           "arrowwidth": 1
          },
          "autotypenumbers": "strict",
          "coloraxis": {
           "colorbar": {
            "outlinewidth": 0,
            "ticks": ""
           }
          },
          "colorscale": {
           "diverging": [
            [
             0,
             "#8e0152"
            ],
            [
             0.1,
             "#c51b7d"
            ],
            [
             0.2,
             "#de77ae"
            ],
            [
             0.3,
             "#f1b6da"
            ],
            [
             0.4,
             "#fde0ef"
            ],
            [
             0.5,
             "#f7f7f7"
            ],
            [
             0.6,
             "#e6f5d0"
            ],
            [
             0.7,
             "#b8e186"
            ],
            [
             0.8,
             "#7fbc41"
            ],
            [
             0.9,
             "#4d9221"
            ],
            [
             1,
             "#276419"
            ]
           ],
           "sequential": [
            [
             0,
             "#0d0887"
            ],
            [
             0.1111111111111111,
             "#46039f"
            ],
            [
             0.2222222222222222,
             "#7201a8"
            ],
            [
             0.3333333333333333,
             "#9c179e"
            ],
            [
             0.4444444444444444,
             "#bd3786"
            ],
            [
             0.5555555555555556,
             "#d8576b"
            ],
            [
             0.6666666666666666,
             "#ed7953"
            ],
            [
             0.7777777777777778,
             "#fb9f3a"
            ],
            [
             0.8888888888888888,
             "#fdca26"
            ],
            [
             1,
             "#f0f921"
            ]
           ],
           "sequentialminus": [
            [
             0,
             "#0d0887"
            ],
            [
             0.1111111111111111,
             "#46039f"
            ],
            [
             0.2222222222222222,
             "#7201a8"
            ],
            [
             0.3333333333333333,
             "#9c179e"
            ],
            [
             0.4444444444444444,
             "#bd3786"
            ],
            [
             0.5555555555555556,
             "#d8576b"
            ],
            [
             0.6666666666666666,
             "#ed7953"
            ],
            [
             0.7777777777777778,
             "#fb9f3a"
            ],
            [
             0.8888888888888888,
             "#fdca26"
            ],
            [
             1,
             "#f0f921"
            ]
           ]
          },
          "colorway": [
           "#636efa",
           "#EF553B",
           "#00cc96",
           "#ab63fa",
           "#FFA15A",
           "#19d3f3",
           "#FF6692",
           "#B6E880",
           "#FF97FF",
           "#FECB52"
          ],
          "font": {
           "color": "#2a3f5f"
          },
          "geo": {
           "bgcolor": "white",
           "lakecolor": "white",
           "landcolor": "#E5ECF6",
           "showlakes": true,
           "showland": true,
           "subunitcolor": "white"
          },
          "hoverlabel": {
           "align": "left"
          },
          "hovermode": "closest",
          "mapbox": {
           "style": "light"
          },
          "paper_bgcolor": "white",
          "plot_bgcolor": "#E5ECF6",
          "polar": {
           "angularaxis": {
            "gridcolor": "white",
            "linecolor": "white",
            "ticks": ""
           },
           "bgcolor": "#E5ECF6",
           "radialaxis": {
            "gridcolor": "white",
            "linecolor": "white",
            "ticks": ""
           }
          },
          "scene": {
           "xaxis": {
            "backgroundcolor": "#E5ECF6",
            "gridcolor": "white",
            "gridwidth": 2,
            "linecolor": "white",
            "showbackground": true,
            "ticks": "",
            "zerolinecolor": "white"
           },
           "yaxis": {
            "backgroundcolor": "#E5ECF6",
            "gridcolor": "white",
            "gridwidth": 2,
            "linecolor": "white",
            "showbackground": true,
            "ticks": "",
            "zerolinecolor": "white"
           },
           "zaxis": {
            "backgroundcolor": "#E5ECF6",
            "gridcolor": "white",
            "gridwidth": 2,
            "linecolor": "white",
            "showbackground": true,
            "ticks": "",
            "zerolinecolor": "white"
           }
          },
          "shapedefaults": {
           "line": {
            "color": "#2a3f5f"
           }
          },
          "ternary": {
           "aaxis": {
            "gridcolor": "white",
            "linecolor": "white",
            "ticks": ""
           },
           "baxis": {
            "gridcolor": "white",
            "linecolor": "white",
            "ticks": ""
           },
           "bgcolor": "#E5ECF6",
           "caxis": {
            "gridcolor": "white",
            "linecolor": "white",
            "ticks": ""
           }
          },
          "title": {
           "x": 0.05
          },
          "xaxis": {
           "automargin": true,
           "gridcolor": "white",
           "linecolor": "white",
           "ticks": "",
           "title": {
            "standoff": 15
           },
           "zerolinecolor": "white",
           "zerolinewidth": 2
          },
          "yaxis": {
           "automargin": true,
           "gridcolor": "white",
           "linecolor": "white",
           "ticks": "",
           "title": {
            "standoff": 15
           },
           "zerolinecolor": "white",
           "zerolinewidth": 2
          }
         }
        },
        "xaxis": {
         "anchor": "y",
         "autorange": true,
         "domain": [
          0,
          1
         ],
         "range": [
          "2024-07-08",
          "2024-08-28"
         ],
         "title": {
          "text": "date"
         },
         "type": "date"
        },
        "yaxis": {
         "anchor": "x",
         "autorange": true,
         "domain": [
          0,
          1
         ],
         "range": [
          216.59249081129943,
          644.0647084836157
         ],
         "title": {
          "text": "numbers"
         },
         "type": "linear"
        }
       }
      },
      "image/png": "[encoded data removed]",
      "text/html": [
       "<div>                            <div id=\"8a72c88f-5d37-4e6a-b2eb-cc322a7d308c\" class=\"plotly-graph-div\" style=\"height:525px; width:100%;\"></div>            <script type=\"text/javascript\">                require([\"plotly\"], function(Plotly) {                    window.PLOTLYENV=window.PLOTLYENV || {};                                    if (document.getElementById(\"8a72c88f-5d37-4e6a-b2eb-cc322a7d308c\")) {                    Plotly.newPlot(                        \"8a72c88f-5d37-4e6a-b2eb-cc322a7d308c\",                        [{\"hovertemplate\":\"type=consumed_calories\\u003cbr\\u003edate=%{x}\\u003cbr\\u003enumbers=%{y}\\u003cextra\\u003e\\u003c\\u002fextra\\u003e\",\"legendgroup\":\"consumed_calories\",\"line\":{\"color\":\"#636efa\",\"dash\":\"solid\"},\"marker\":{\"symbol\":\"circle\"},\"mode\":\"lines\",\"name\":\"consumed_calories\",\"orientation\":\"v\",\"showlegend\":true,\"x\":[\"2024-07-08T00:00:00\",\"2024-07-09T00:00:00\",\"2024-07-10T00:00:00\",\"2024-07-11T00:00:00\",\"2024-07-12T00:00:00\",\"2024-07-13T00:00:00\",\"2024-07-14T00:00:00\",\"2024-07-15T00:00:00\",\"2024-07-16T00:00:00\",\"2024-07-17T00:00:00\",\"2024-07-18T00:00:00\",\"2024-07-19T00:00:00\",\"2024-07-20T00:00:00\",\"2024-07-21T00:00:00\",\"2024-07-22T00:00:00\",\"2024-07-23T00:00:00\",\"2024-07-24T00:00:00\",\"2024-07-25T00:00:00\",\"2024-07-26T00:00:00\",\"2024-07-27T00:00:00\",\"2024-07-28T00:00:00\",\"2024-07-29T00:00:00\",\"2024-07-30T00:00:00\",\"2024-07-31T00:00:00\",\"2024-08-01T00:00:00\",\"2024-08-02T00:00:00\",\"2024-08-03T00:00:00\",\"2024-08-04T00:00:00\",\"2024-08-05T00:00:00\",\"2024-08-06T00:00:00\",\"2024-08-07T00:00:00\",\"2024-08-08T00:00:00\",\"2024-08-09T00:00:00\",\"2024-08-10T00:00:00\",\"2024-08-11T00:00:00\",\"2024-08-12T00:00:00\",\"2024-08-13T00:00:00\",\"2024-08-14T00:00:00\",\"2024-08-15T00:00:00\",\"2024-08-16T00:00:00\",\"2024-08-17T00:00:00\",\"2024-08-18T00:00:00\",\"2024-08-19T00:00:00\",\"2024-08-20T00:00:00\",\"2024-08-21T00:00:00\",\"2024-08-22T00:00:00\",\"2024-08-23T00:00:00\",\"2024-08-24T00:00:00\",\"2024-08-25T00:00:00\",\"2024-08-26T00:00:00\",\"2024-08-27T00:00:00\",\"2024-08-28T00:00:00\"],\"xaxis\":\"x\",\"y\":[237.96610169491524,336.0,402.50847457627117,435.93220338983053,405.08474576271186,472.5423728813559,426.03389830508473,452.8813559322034,401.6949152542373,481.69491525423734,425.2881355932203,474.57627118644064,413.22033898305085,436.6101694915254,517.2881355932203,507.1186440677966,469.8305084745763,506.4406779661017,420.33898305084745,451.3898305084746,423.0508474576271,459.66101694915255,476.9491525423729,530.8474576271186,424.7457627118644,533.5593220338983,465.7627118644068,435.93220338983053,482.3728813559322,438.98305084745766,436.9491525423729,478.98305084745766,473.89830508474574,537.6271186440679,474.5762711864407,456.271186440678,537.6271186440678,496.9491525423729,513.2203389830509,459.66101694915255,507.1186440677966,524.4067796610169,481.6949152542373,444.4067796610169,501.0169491525424,524.7457627118645,562.3728813559322,556.271186440678,529.8305084745763,453.5593220338983,512.542372881356,419.66101694915255],\"yaxis\":\"y\",\"type\":\"scatter\"},{\"hovertemplate\":\"type=target_calories_max\\u003cbr\\u003edate=%{x}\\u003cbr\\u003enumbers=%{y}\\u003cextra\\u003e\\u003c\\u002fextra\\u003e\",\"legendgroup\":\"target_calories_max\",\"line\":{\"color\":\"#EF553B\",\"dash\":\"solid\"},\"marker\":{\"symbol\":\"circle\"},\"mode\":\"lines\",\"name\":\"target_calories_max\",\"orientation\":\"v\",\"showlegend\":true,\"x\":[\"2024-07-08T00:00:00\",\"2024-07-09T00:00:00\",\"2024-07-10T00:00:00\",\"2024-07-11T00:00:00\",\"2024-07-12T00:00:00\",\"2024-07-13T00:00:00\",\"2024-07-14T00:00:00\",\"2024-07-15T00:00:00\",\"2024-07-16T00:00:00\",\"2024-07-17T00:00:00\",\"2024-07-18T00:00:00\",\"2024-07-19T00:00:00\",\"2024-07-20T00:00:00\",\"2024-07-21T00:00:00\",\"2024-07-22T00:00:00\",\"2024-07-23T00:00:00\",\"2024-07-24T00:00:00\",\"2024-07-25T00:00:00\",\"2024-07-26T00:00:00\",\"2024-07-27T00:00:00\",\"2024-07-28T00:00:00\",\"2024-07-29T00:00:00\",\"2024-07-30T00:00:00\",\"2024-07-31T00:00:00\",\"2024-08-01T00:00:00\",\"2024-08-02T00:00:00\",\"2024-08-03T00:00:00\",\"2024-08-04T00:00:00\",\"2024-08-05T00:00:00\",\"2024-08-06T00:00:00\",\"2024-08-07T00:00:00\",\"2024-08-08T00:00:00\",\"2024-08-09T00:00:00\",\"2024-08-10T00:00:00\",\"2024-08-11T00:00:00\",\"2024-08-12T00:00:00\",\"2024-08-13T00:00:00\",\"2024-08-14T00:00:00\",\"2024-08-15T00:00:00\",\"2024-08-16T00:00:00\",\"2024-08-17T00:00:00\",\"2024-08-18T00:00:00\",\"2024-08-19T00:00:00\",\"2024-08-20T00:00:00\",\"2024-08-21T00:00:00\",\"2024-08-22T00:00:00\",\"2024-08-23T00:00:00\",\"2024-08-24T00:00:00\",\"2024-08-25T00:00:00\",\"2024-08-26T00:00:00\",\"2024-08-27T00:00:00\",\"2024-08-28T00:00:00\"],\"xaxis\":\"x\",\"y\":[401.7010752,391.3591776,397.89090239999996,397.89090239999996,397.89090239999996,397.89090239999996,397.89090239999996,397.89090239999996,432.1824576,432.1824576,445.79021759999995,445.79021759999995,445.79021759999995,445.79021759999995,445.79021759999995,445.79021759999995,445.79021759999995,445.79021759999995,445.79021759999995,445.79021759999995,445.79021759999995,445.79021759999995,445.79021759999995,445.79021759999995,445.79021759999995,517.09488,517.09488,517.09488,517.09488,517.09488,517.09488,517.09488,517.09488,517.09488,517.09488,517.09488,574.7917824000001,574.7917824000001,574.7917824000001,574.7917824000001,574.7917824000001,574.7917824000001,574.7917824000001,574.7917824000001,574.7917824000001,585.13368,585.13368,585.13368,585.13368,585.13368,622.6910975999999,622.6910975999999],\"yaxis\":\"y\",\"type\":\"scatter\"},{\"hovertemplate\":\"type=target_calories_min\\u003cbr\\u003edate=%{x}\\u003cbr\\u003enumbers=%{y}\\u003cextra\\u003e\\u003c\\u002fextra\\u003e\",\"legendgroup\":\"target_calories_min\",\"line\":{\"color\":\"#00cc96\",\"dash\":\"solid\"},\"marker\":{\"symbol\":\"circle\"},\"mode\":\"lines\",\"name\":\"target_calories_min\",\"orientation\":\"v\",\"showlegend\":true,\"x\":[\"2024-07-08T00:00:00\",\"2024-07-09T00:00:00\",\"2024-07-10T00:00:00\",\"2024-07-11T00:00:00\",\"2024-07-12T00:00:00\",\"2024-07-13T00:00:00\",\"2024-07-14T00:00:00\",\"2024-07-15T00:00:00\",\"2024-07-16T00:00:00\",\"2024-07-17T00:00:00\",\"2024-07-18T00:00:00\",\"2024-07-19T00:00:00\",\"2024-07-20T00:00:00\",\"2024-07-21T00:00:00\",\"2024-07-22T00:00:00\",\"2024-07-23T00:00:00\",\"2024-07-24T00:00:00\",\"2024-07-25T00:00:00\",\"2024-07-26T00:00:00\",\"2024-07-27T00:00:00\",\"2024-07-28T00:00:00\",\"2024-07-29T00:00:00\",\"2024-07-30T00:00:00\",\"2024-07-31T00:00:00\",\"2024-08-01T00:00:00\",\"2024-08-02T00:00:00\",\"2024-08-03T00:00:00\",\"2024-08-04T00:00:00\",\"2024-08-05T00:00:00\",\"2024-08-06T00:00:00\",\"2024-08-07T00:00:00\",\"2024-08-08T00:00:00\",\"2024-08-09T00:00:00\",\"2024-08-10T00:00:00\",\"2024-08-11T00:00:00\",\"2024-08-12T00:00:00\",\"2024-08-13T00:00:00\",\"2024-08-14T00:00:00\",\"2024-08-15T00:00:00\",\"2024-08-16T00:00:00\",\"2024-08-17T00:00:00\",\"2024-08-18T00:00:00\",\"2024-08-19T00:00:00\",\"2024-08-20T00:00:00\",\"2024-08-21T00:00:00\",\"2024-08-22T00:00:00\",\"2024-08-23T00:00:00\",\"2024-08-24T00:00:00\",\"2024-08-25T00:00:00\",\"2024-08-26T00:00:00\",\"2024-08-27T00:00:00\",\"2024-08-28T00:00:00\"],\"xaxis\":\"x\",\"y\":[334.750896,326.132648,331.57575199999997,331.57575199999997,331.57575199999997,331.57575199999997,331.57575199999997,331.57575199999997,360.152048,360.152048,371.49184799999995,371.49184799999995,371.49184799999995,371.49184799999995,371.49184799999995,371.49184799999995,371.49184799999995,371.49184799999995,371.49184799999995,371.49184799999995,371.49184799999995,371.49184799999995,371.49184799999995,371.49184799999995,371.49184799999995,430.9124,430.9124,430.9124,430.9124,430.9124,430.9124,430.9124,430.9124,430.9124,430.9124,430.9124,478.99315200000007,478.99315200000007,478.99315200000007,478.99315200000007,478.99315200000007,478.99315200000007,478.99315200000007,478.99315200000007,478.99315200000007,487.6114,487.6114,487.6114,487.6114,487.6114,518.9092479999999,518.9092479999999],\"yaxis\":\"y\",\"type\":\"scatter\"}],                        {\"template\":{\"data\":{\"histogram2dcontour\":[{\"type\":\"histogram2dcontour\",\"colorbar\":{\"outlinewidth\":0,\"ticks\":\"\"},\"colorscale\":[[0.0,\"#0d0887\"],[0.1111111111111111,\"#46039f\"],[0.2222222222222222,\"#7201a8\"],[0.3333333333333333,\"#9c179e\"],[0.4444444444444444,\"#bd3786\"],[0.5555555555555556,\"#d8576b\"],[0.6666666666666666,\"#ed7953\"],[0.7777777777777778,\"#fb9f3a\"],[0.8888888888888888,\"#fdca26\"],[1.0,\"#f0f921\"]]}],\"choropleth\":[{\"type\":\"choropleth\",\"colorbar\":{\"outlinewidth\":0,\"ticks\":\"\"}}],\"histogram2d\":[{\"type\":\"histogram2d\",\"colorbar\":{\"outlinewidth\":0,\"ticks\":\"\"},\"colorscale\":[[0.0,\"#0d0887\"],[0.1111111111111111,\"#46039f\"],[0.2222222222222222,\"#7201a8\"],[0.3333333333333333,\"#9c179e\"],[0.4444444444444444,\"#bd3786\"],[0.5555555555555556,\"#d8576b\"],[0.6666666666666666,\"#ed7953\"],[0.7777777777777778,\"#fb9f3a\"],[0.8888888888888888,\"#fdca26\"],[1.0,\"#f0f921\"]]}],\"heatmap\":[{\"type\":\"heatmap\",\"colorbar\":{\"outlinewidth\":0,\"ticks\":\"\"},\"colorscale\":[[0.0,\"#0d0887\"],[0.1111111111111111,\"#46039f\"],[0.2222222222222222,\"#7201a8\"],[0.3333333333333333,\"#9c179e\"],[0.4444444444444444,\"#bd3786\"],[0.5555555555555556,\"#d8576b\"],[0.6666666666666666,\"#ed7953\"],[0.7777777777777778,\"#fb9f3a\"],[0.8888888888888888,\"#fdca26\"],[1.0,\"#f0f921\"]]}],\"heatmapgl\":[{\"type\":\"heatmapgl\",\"colorbar\":{\"outlinewidth\":0,\"ticks\":\"\"},\"colorscale\":[[0.0,\"#0d0887\"],[0.1111111111111111,\"#46039f\"],[0.2222222222222222,\"#7201a8\"],[0.3333333333333333,\"#9c179e\"],[0.4444444444444444,\"#bd3786\"],[0.5555555555555556,\"#d8576b\"],[0.6666666666666666,\"#ed7953\"],[0.7777777777777778,\"#fb9f3a\"],[0.8888888888888888,\"#fdca26\"],[1.0,\"#f0f921\"]]}],\"contourcarpet\":[{\"type\":\"contourcarpet\",\"colorbar\":{\"outlinewidth\":0,\"ticks\":\"\"}}],\"contour\":[{\"type\":\"contour\",\"colorbar\":{\"outlinewidth\":0,\"ticks\":\"\"},\"colorscale\":[[0.0,\"#0d0887\"],[0.1111111111111111,\"#46039f\"],[0.2222222222222222,\"#7201a8\"],[0.3333333333333333,\"#9c179e\"],[0.4444444444444444,\"#bd3786\"],[0.5555555555555556,\"#d8576b\"],[0.6666666666666666,\"#ed7953\"],[0.7777777777777778,\"#fb9f3a\"],[0.8888888888888888,\"#fdca26\"],[1.0,\"#f0f921\"]]}],\"surface\":[{\"type\":\"surface\",\"colorbar\":{\"outlinewidth\":0,\"ticks\":\"\"},\"colorscale\":[[0.0,\"#0d0887\"],[0.1111111111111111,\"#46039f\"],[0.2222222222222222,\"#7201a8\"],[0.3333333333333333,\"#9c179e\"],[0.4444444444444444,\"#bd3786\"],[0.5555555555555556,\"#d8576b\"],[0.6666666666666666,\"#ed7953\"],[0.7777777777777778,\"#fb9f3a\"],[0.8888888888888888,\"#fdca26\"],[1.0,\"#f0f921\"]]}],\"mesh3d\":[{\"type\":\"mesh3d\",\"colorbar\":{\"outlinewidth\":0,\"ticks\":\"\"}}],\"scatter\":[{\"fillpattern\":{\"fillmode\":\"overlay\",\"size\":10,\"solidity\":0.2},\"type\":\"scatter\"}],\"parcoords\":[{\"type\":\"parcoords\",\"line\":{\"colorbar\":{\"outlinewidth\":0,\"ticks\":\"\"}}}],\"scatterpolargl\":[{\"type\":\"scatterpolargl\",\"marker\":{\"colorbar\":{\"outlinewidth\":0,\"ticks\":\"\"}}}],\"bar\":[{\"error_x\":{\"color\":\"#2a3f5f\"},\"error_y\":{\"color\":\"#2a3f5f\"},\"marker\":{\"line\":{\"color\":\"#E5ECF6\",\"width\":0.5},\"pattern\":{\"fillmode\":\"overlay\",\"size\":10,\"solidity\":0.2}},\"type\":\"bar\"}],\"scattergeo\":[{\"type\":\"scattergeo\",\"marker\":{\"colorbar\":{\"outlinewidth\":0,\"ticks\":\"\"}}}],\"scatterpolar\":[{\"type\":\"scatterpolar\",\"marker\":{\"colorbar\":{\"outlinewidth\":0,\"ticks\":\"\"}}}],\"histogram\":[{\"marker\":{\"pattern\":{\"fillmode\":\"overlay\",\"size\":10,\"solidity\":0.2}},\"type\":\"histogram\"}],\"scattergl\":[{\"type\":\"scattergl\",\"marker\":{\"colorbar\":{\"outlinewidth\":0,\"ticks\":\"\"}}}],\"scatter3d\":[{\"type\":\"scatter3d\",\"line\":{\"colorbar\":{\"outlinewidth\":0,\"ticks\":\"\"}},\"marker\":{\"colorbar\":{\"outlinewidth\":0,\"ticks\":\"\"}}}],\"scattermapbox\":[{\"type\":\"scattermapbox\",\"marker\":{\"colorbar\":{\"outlinewidth\":0,\"ticks\":\"\"}}}],\"scatterternary\":[{\"type\":\"scatterternary\",\"marker\":{\"colorbar\":{\"outlinewidth\":0,\"ticks\":\"\"}}}],\"scattercarpet\":[{\"type\":\"scattercarpet\",\"marker\":{\"colorbar\":{\"outlinewidth\":0,\"ticks\":\"\"}}}],\"carpet\":[{\"aaxis\":{\"endlinecolor\":\"#2a3f5f\",\"gridcolor\":\"white\",\"linecolor\":\"white\",\"minorgridcolor\":\"white\",\"startlinecolor\":\"#2a3f5f\"},\"baxis\":{\"endlinecolor\":\"#2a3f5f\",\"gridcolor\":\"white\",\"linecolor\":\"white\",\"minorgridcolor\":\"white\",\"startlinecolor\":\"#2a3f5f\"},\"type\":\"carpet\"}],\"table\":[{\"cells\":{\"fill\":{\"color\":\"#EBF0F8\"},\"line\":{\"color\":\"white\"}},\"header\":{\"fill\":{\"color\":\"#C8D4E3\"},\"line\":{\"color\":\"white\"}},\"type\":\"table\"}],\"barpolar\":[{\"marker\":{\"line\":{\"color\":\"#E5ECF6\",\"width\":0.5},\"pattern\":{\"fillmode\":\"overlay\",\"size\":10,\"solidity\":0.2}},\"type\":\"barpolar\"}],\"pie\":[{\"automargin\":true,\"type\":\"pie\"}]},\"layout\":{\"autotypenumbers\":\"strict\",\"colorway\":[\"#636efa\",\"#EF553B\",\"#00cc96\",\"#ab63fa\",\"#FFA15A\",\"#19d3f3\",\"#FF6692\",\"#B6E880\",\"#FF97FF\",\"#FECB52\"],\"font\":{\"color\":\"#2a3f5f\"},\"hovermode\":\"closest\",\"hoverlabel\":{\"align\":\"left\"},\"paper_bgcolor\":\"white\",\"plot_bgcolor\":\"#E5ECF6\",\"polar\":{\"bgcolor\":\"#E5ECF6\",\"angularaxis\":{\"gridcolor\":\"white\",\"linecolor\":\"white\",\"ticks\":\"\"},\"radialaxis\":{\"gridcolor\":\"white\",\"linecolor\":\"white\",\"ticks\":\"\"}},\"ternary\":{\"bgcolor\":\"#E5ECF6\",\"aaxis\":{\"gridcolor\":\"white\",\"linecolor\":\"white\",\"ticks\":\"\"},\"baxis\":{\"gridcolor\":\"white\",\"linecolor\":\"white\",\"ticks\":\"\"},\"caxis\":{\"gridcolor\":\"white\",\"linecolor\":\"white\",\"ticks\":\"\"}},\"coloraxis\":{\"colorbar\":{\"outlinewidth\":0,\"ticks\":\"\"}},\"colorscale\":{\"sequential\":[[0.0,\"#0d0887\"],[0.1111111111111111,\"#46039f\"],[0.2222222222222222,\"#7201a8\"],[0.3333333333333333,\"#9c179e\"],[0.4444444444444444,\"#bd3786\"],[0.5555555555555556,\"#d8576b\"],[0.6666666666666666,\"#ed7953\"],[0.7777777777777778,\"#fb9f3a\"],[0.8888888888888888,\"#fdca26\"],[1.0,\"#f0f921\"]],\"sequentialminus\":[[0.0,\"#0d0887\"],[0.1111111111111111,\"#46039f\"],[0.2222222222222222,\"#7201a8\"],[0.3333333333333333,\"#9c179e\"],[0.4444444444444444,\"#bd3786\"],[0.5555555555555556,\"#d8576b\"],[0.6666666666666666,\"#ed7953\"],[0.7777777777777778,\"#fb9f3a\"],[0.8888888888888888,\"#fdca26\"],[1.0,\"#f0f921\"]],\"diverging\":[[0,\"#8e0152\"],[0.1,\"#c51b7d\"],[0.2,\"#de77ae\"],[0.3,\"#f1b6da\"],[0.4,\"#fde0ef\"],[0.5,\"#f7f7f7\"],[0.6,\"#e6f5d0\"],[0.7,\"#b8e186\"],[0.8,\"#7fbc41\"],[0.9,\"#4d9221\"],[1,\"#276419\"]]},\"xaxis\":{\"gridcolor\":\"white\",\"linecolor\":\"white\",\"ticks\":\"\",\"title\":{\"standoff\":15},\"zerolinecolor\":\"white\",\"automargin\":true,\"zerolinewidth\":2},\"yaxis\":{\"gridcolor\":\"white\",\"linecolor\":\"white\",\"ticks\":\"\",\"title\":{\"standoff\":15},\"zerolinecolor\":\"white\",\"automargin\":true,\"zerolinewidth\":2},\"scene\":{\"xaxis\":{\"backgroundcolor\":\"#E5ECF6\",\"gridcolor\":\"white\",\"linecolor\":\"white\",\"showbackground\":true,\"ticks\":\"\",\"zerolinecolor\":\"white\",\"gridwidth\":2},\"yaxis\":{\"backgroundcolor\":\"#E5ECF6\",\"gridcolor\":\"white\",\"linecolor\":\"white\",\"showbackground\":true,\"ticks\":\"\",\"zerolinecolor\":\"white\",\"gridwidth\":2},\"zaxis\":{\"backgroundcolor\":\"#E5ECF6\",\"gridcolor\":\"white\",\"linecolor\":\"white\",\"showbackground\":true,\"ticks\":\"\",\"zerolinecolor\":\"white\",\"gridwidth\":2}},\"shapedefaults\":{\"line\":{\"color\":\"#2a3f5f\"}},\"annotationdefaults\":{\"arrowcolor\":\"#2a3f5f\",\"arrowhead\":0,\"arrowwidth\":1},\"geo\":{\"bgcolor\":\"white\",\"landcolor\":\"#E5ECF6\",\"subunitcolor\":\"white\",\"showland\":true,\"showlakes\":true,\"lakecolor\":\"white\"},\"title\":{\"x\":0.05},\"mapbox\":{\"style\":\"light\"}}},\"xaxis\":{\"anchor\":\"y\",\"domain\":[0.0,1.0],\"title\":{\"text\":\"date\"}},\"yaxis\":{\"anchor\":\"x\",\"domain\":[0.0,1.0],\"title\":{\"text\":\"numbers\"}},\"legend\":{\"title\":{\"text\":\"type\"},\"tracegroupgap\":0},\"margin\":{\"t\":60}},                        {\"responsive\": true}                    ).then(function(){\n",
       "                            \n",
       "var gd = document.getElementById('8a72c88f-5d37-4e6a-b2eb-cc322a7d308c');\n",
       "var x = new MutationObserver(function (mutations, observer) {{\n",
       "        var display = window.getComputedStyle(gd).display;\n",
       "        if (!display || display === 'none') {{\n",
       "            console.log([gd, 'removed!']);\n",
       "            Plotly.purge(gd);\n",
       "            observer.disconnect();\n",
       "        }}\n",
       "}});\n",
       "\n",
       "// Listen for the removal of the full notebook cells\n",
       "var notebookContainer = gd.closest('#notebook-container');\n",
       "if (notebookContainer) {{\n",
       "    x.observe(notebookContainer, {childList: true});\n",
       "}}\n",
       "\n",
       "// Listen for the clearing of the current output cell\n",
       "var outputEl = gd.closest('.output');\n",
       "if (outputEl) {{\n",
       "    x.observe(outputEl, {childList: true});\n",
       "}}\n",
       "\n",
       "                        })                };                });            </script>        </div>"
      ]
     },
     "metadata": {},
     "output_type": "display_data"
    }
   ],
   "source": [
    "px.line(plotly_df,x='date',y='numbers',color='type')"
   ]
  },
  {
   "cell_type": "code",
   "execution_count": 27,
   "id": "01829ccd-b1f8-42e3-8bdb-fa5805b1bf1a",
   "metadata": {},
   "outputs": [
    {
     "data": {
      "application/vnd.plotly.v1+json": {
       "config": {
        "plotlyServerURL": "https://plot.ly"
       },
       "data": [
        {
         "hovertemplate": "date=%{x}<br>consumed_cal_as_percent_of_min=%{y}<extra></extra>",
         "legendgroup": "",
         "line": {
          "color": "#636efa",
          "dash": "solid"
         },
         "marker": {
          "symbol": "circle"
         },
         "mode": "lines",
         "name": "",
         "orientation": "v",
         "showlegend": false,
         "type": "scatter",
         "x": [
          "2024-07-08T00:00:00",
          "2024-07-09T00:00:00",
          "2024-07-10T00:00:00",
          "2024-07-11T00:00:00",
          "2024-07-12T00:00:00",
          "2024-07-13T00:00:00",
          "2024-07-14T00:00:00",
          "2024-07-15T00:00:00",
          "2024-07-16T00:00:00",
          "2024-07-17T00:00:00",
          "2024-07-18T00:00:00",
          "2024-07-19T00:00:00",
          "2024-07-20T00:00:00",
          "2024-07-21T00:00:00",
          "2024-07-22T00:00:00",
          "2024-07-23T00:00:00",
          "2024-07-24T00:00:00",
          "2024-07-25T00:00:00",
          "2024-07-26T00:00:00",
          "2024-07-27T00:00:00",
          "2024-07-28T00:00:00",
          "2024-07-29T00:00:00",
          "2024-07-30T00:00:00",
          "2024-07-31T00:00:00",
          "2024-08-01T00:00:00",
          "2024-08-02T00:00:00",
          "2024-08-03T00:00:00",
          "2024-08-04T00:00:00",
          "2024-08-05T00:00:00",
          "2024-08-06T00:00:00",
          "2024-08-07T00:00:00",
          "2024-08-08T00:00:00",
          "2024-08-09T00:00:00",
          "2024-08-10T00:00:00",
          "2024-08-11T00:00:00",
          "2024-08-12T00:00:00",
          "2024-08-13T00:00:00",
          "2024-08-14T00:00:00",
          "2024-08-15T00:00:00",
          "2024-08-16T00:00:00",
          "2024-08-17T00:00:00",
          "2024-08-18T00:00:00",
          "2024-08-19T00:00:00",
          "2024-08-20T00:00:00",
          "2024-08-21T00:00:00",
          "2024-08-22T00:00:00",
          "2024-08-23T00:00:00",
          "2024-08-24T00:00:00",
          "2024-08-25T00:00:00",
          "2024-08-26T00:00:00",
          "2024-08-27T00:00:00",
          "2024-08-28T00:00:00"
         ],
         "xaxis": "x",
         "y": [
          71.08751747595478,
          103.02556400302493,
          121.39261455290954,
          131.47288387657207,
          122.16959271578817,
          142.5141525069529,
          128.48765198761723,
          136.5845823165632,
          111.53481355581165,
          133.74765406144166,
          114.48114888195887,
          127.7487712695221,
          111.2326801268196,
          117.52886956796034,
          139.2461606837791,
          136.5086870137179,
          126.47128355682689,
          136.32618876904718,
          113.14891169586244,
          121.5073313017826,
          113.87890467454542,
          123.7338098867657,
          128.38751512586973,
          142.89612557719403,
          114.3351502862223,
          123.82083273396131,
          108.0875630091886,
          101.1649243302886,
          111.9422140917579,
          101.87292146790337,
          101.4009233761602,
          111.15555060551928,
          109.97555537616131,
          124.7648289174477,
          110.13288807340906,
          105.88490524772043,
          112.24108662080991,
          103.74869671255192,
          107.14565267585512,
          95.96400596331542,
          105.87179418961641,
          109.48105990062606,
          100.56405049695516,
          92.77935974771866,
          104.59793570337771,
          107.61556491744541,
          115.33218488245605,
          114.0808411043462,
          108.6583513992036,
          93.01655417283072,
          98.77302724066233,
          80.87368235710315
         ],
         "yaxis": "y"
        }
       ],
       "layout": {
        "autosize": true,
        "legend": {
         "tracegroupgap": 0
        },
        "margin": {
         "t": 60
        },
        "template": {
         "data": {
          "bar": [
           {
            "error_x": {
             "color": "#2a3f5f"
            },
            "error_y": {
             "color": "#2a3f5f"
            },
            "marker": {
             "line": {
              "color": "#E5ECF6",
              "width": 0.5
             },
             "pattern": {
              "fillmode": "overlay",
              "size": 10,
              "solidity": 0.2
             }
            },
            "type": "bar"
           }
          ],
          "barpolar": [
           {
            "marker": {
             "line": {
              "color": "#E5ECF6",
              "width": 0.5
             },
             "pattern": {
              "fillmode": "overlay",
              "size": 10,
              "solidity": 0.2
             }
            },
            "type": "barpolar"
           }
          ],
          "carpet": [
           {
            "aaxis": {
             "endlinecolor": "#2a3f5f",
             "gridcolor": "white",
             "linecolor": "white",
             "minorgridcolor": "white",
             "startlinecolor": "#2a3f5f"
            },
            "baxis": {
             "endlinecolor": "#2a3f5f",
             "gridcolor": "white",
             "linecolor": "white",
             "minorgridcolor": "white",
             "startlinecolor": "#2a3f5f"
            },
            "type": "carpet"
           }
          ],
          "choropleth": [
           {
            "colorbar": {
             "outlinewidth": 0,
             "ticks": ""
            },
            "type": "choropleth"
           }
          ],
          "contour": [
           {
            "colorbar": {
             "outlinewidth": 0,
             "ticks": ""
            },
            "colorscale": [
             [
              0,
              "#0d0887"
             ],
             [
              0.1111111111111111,
              "#46039f"
             ],
             [
              0.2222222222222222,
              "#7201a8"
             ],
             [
              0.3333333333333333,
              "#9c179e"
             ],
             [
              0.4444444444444444,
              "#bd3786"
             ],
             [
              0.5555555555555556,
              "#d8576b"
             ],
             [
              0.6666666666666666,
              "#ed7953"
             ],
             [
              0.7777777777777778,
              "#fb9f3a"
             ],
             [
              0.8888888888888888,
              "#fdca26"
             ],
             [
              1,
              "#f0f921"
             ]
            ],
            "type": "contour"
           }
          ],
          "contourcarpet": [
           {
            "colorbar": {
             "outlinewidth": 0,
             "ticks": ""
            },
            "type": "contourcarpet"
           }
          ],
          "heatmap": [
           {
            "colorbar": {
             "outlinewidth": 0,
             "ticks": ""
            },
            "colorscale": [
             [
              0,
              "#0d0887"
             ],
             [
              0.1111111111111111,
              "#46039f"
             ],
             [
              0.2222222222222222,
              "#7201a8"
             ],
             [
              0.3333333333333333,
              "#9c179e"
             ],
             [
              0.4444444444444444,
              "#bd3786"
             ],
             [
              0.5555555555555556,
              "#d8576b"
             ],
             [
              0.6666666666666666,
              "#ed7953"
             ],
             [
              0.7777777777777778,
              "#fb9f3a"
             ],
             [
              0.8888888888888888,
              "#fdca26"
             ],
             [
              1,
              "#f0f921"
             ]
            ],
            "type": "heatmap"
           }
          ],
          "heatmapgl": [
           {
            "colorbar": {
             "outlinewidth": 0,
             "ticks": ""
            },
            "colorscale": [
             [
              0,
              "#0d0887"
             ],
             [
              0.1111111111111111,
              "#46039f"
             ],
             [
              0.2222222222222222,
              "#7201a8"
             ],
             [
              0.3333333333333333,
              "#9c179e"
             ],
             [
              0.4444444444444444,
              "#bd3786"
             ],
             [
              0.5555555555555556,
              "#d8576b"
             ],
             [
              0.6666666666666666,
              "#ed7953"
             ],
             [
              0.7777777777777778,
              "#fb9f3a"
             ],
             [
              0.8888888888888888,
              "#fdca26"
             ],
             [
              1,
              "#f0f921"
             ]
            ],
            "type": "heatmapgl"
           }
          ],
          "histogram": [
           {
            "marker": {
             "pattern": {
              "fillmode": "overlay",
              "size": 10,
              "solidity": 0.2
             }
            },
            "type": "histogram"
           }
          ],
          "histogram2d": [
           {
            "colorbar": {
             "outlinewidth": 0,
             "ticks": ""
            },
            "colorscale": [
             [
              0,
              "#0d0887"
             ],
             [
              0.1111111111111111,
              "#46039f"
             ],
             [
              0.2222222222222222,
              "#7201a8"
             ],
             [
              0.3333333333333333,
              "#9c179e"
             ],
             [
              0.4444444444444444,
              "#bd3786"
             ],
             [
              0.5555555555555556,
              "#d8576b"
             ],
             [
              0.6666666666666666,
              "#ed7953"
             ],
             [
              0.7777777777777778,
              "#fb9f3a"
             ],
             [
              0.8888888888888888,
              "#fdca26"
             ],
             [
              1,
              "#f0f921"
             ]
            ],
            "type": "histogram2d"
           }
          ],
          "histogram2dcontour": [
           {
            "colorbar": {
             "outlinewidth": 0,
             "ticks": ""
            },
            "colorscale": [
             [
              0,
              "#0d0887"
             ],
             [
              0.1111111111111111,
              "#46039f"
             ],
             [
              0.2222222222222222,
              "#7201a8"
             ],
             [
              0.3333333333333333,
              "#9c179e"
             ],
             [
              0.4444444444444444,
              "#bd3786"
             ],
             [
              0.5555555555555556,
              "#d8576b"
             ],
             [
              0.6666666666666666,
              "#ed7953"
             ],
             [
              0.7777777777777778,
              "#fb9f3a"
             ],
             [
              0.8888888888888888,
              "#fdca26"
             ],
             [
              1,
              "#f0f921"
             ]
            ],
            "type": "histogram2dcontour"
           }
          ],
          "mesh3d": [
           {
            "colorbar": {
             "outlinewidth": 0,
             "ticks": ""
            },
            "type": "mesh3d"
           }
          ],
          "parcoords": [
           {
            "line": {
             "colorbar": {
              "outlinewidth": 0,
              "ticks": ""
             }
            },
            "type": "parcoords"
           }
          ],
          "pie": [
           {
            "automargin": true,
            "type": "pie"
           }
          ],
          "scatter": [
           {
            "fillpattern": {
             "fillmode": "overlay",
             "size": 10,
             "solidity": 0.2
            },
            "type": "scatter"
           }
          ],
          "scatter3d": [
           {
            "line": {
             "colorbar": {
              "outlinewidth": 0,
              "ticks": ""
             }
            },
            "marker": {
             "colorbar": {
              "outlinewidth": 0,
              "ticks": ""
             }
            },
            "type": "scatter3d"
           }
          ],
          "scattercarpet": [
           {
            "marker": {
             "colorbar": {
              "outlinewidth": 0,
              "ticks": ""
             }
            },
            "type": "scattercarpet"
           }
          ],
          "scattergeo": [
           {
            "marker": {
             "colorbar": {
              "outlinewidth": 0,
              "ticks": ""
             }
            },
            "type": "scattergeo"
           }
          ],
          "scattergl": [
           {
            "marker": {
             "colorbar": {
              "outlinewidth": 0,
              "ticks": ""
             }
            },
            "type": "scattergl"
           }
          ],
          "scattermapbox": [
           {
            "marker": {
             "colorbar": {
              "outlinewidth": 0,
              "ticks": ""
             }
            },
            "type": "scattermapbox"
           }
          ],
          "scatterpolar": [
           {
            "marker": {
             "colorbar": {
              "outlinewidth": 0,
              "ticks": ""
             }
            },
            "type": "scatterpolar"
           }
          ],
          "scatterpolargl": [
           {
            "marker": {
             "colorbar": {
              "outlinewidth": 0,
              "ticks": ""
             }
            },
            "type": "scatterpolargl"
           }
          ],
          "scatterternary": [
           {
            "marker": {
             "colorbar": {
              "outlinewidth": 0,
              "ticks": ""
             }
            },
            "type": "scatterternary"
           }
          ],
          "surface": [
           {
            "colorbar": {
             "outlinewidth": 0,
             "ticks": ""
            },
            "colorscale": [
             [
              0,
              "#0d0887"
             ],
             [
              0.1111111111111111,
              "#46039f"
             ],
             [
              0.2222222222222222,
              "#7201a8"
             ],
             [
              0.3333333333333333,
              "#9c179e"
             ],
             [
              0.4444444444444444,
              "#bd3786"
             ],
             [
              0.5555555555555556,
              "#d8576b"
             ],
             [
              0.6666666666666666,
              "#ed7953"
             ],
             [
              0.7777777777777778,
              "#fb9f3a"
             ],
             [
              0.8888888888888888,
              "#fdca26"
             ],
             [
              1,
              "#f0f921"
             ]
            ],
            "type": "surface"
           }
          ],
          "table": [
           {
            "cells": {
             "fill": {
              "color": "#EBF0F8"
             },
             "line": {
              "color": "white"
             }
            },
            "header": {
             "fill": {
              "color": "#C8D4E3"
             },
             "line": {
              "color": "white"
             }
            },
            "type": "table"
           }
          ]
         },
         "layout": {
          "annotationdefaults": {
           "arrowcolor": "#2a3f5f",
           "arrowhead": 0,
           "arrowwidth": 1
          },
          "autotypenumbers": "strict",
          "coloraxis": {
           "colorbar": {
            "outlinewidth": 0,
            "ticks": ""
           }
          },
          "colorscale": {
           "diverging": [
            [
             0,
             "#8e0152"
            ],
            [
             0.1,
             "#c51b7d"
            ],
            [
             0.2,
             "#de77ae"
            ],
            [
             0.3,
             "#f1b6da"
            ],
            [
             0.4,
             "#fde0ef"
            ],
            [
             0.5,
             "#f7f7f7"
            ],
            [
             0.6,
             "#e6f5d0"
            ],
            [
             0.7,
             "#b8e186"
            ],
            [
             0.8,
             "#7fbc41"
            ],
            [
             0.9,
             "#4d9221"
            ],
            [
             1,
             "#276419"
            ]
           ],
           "sequential": [
            [
             0,
             "#0d0887"
            ],
            [
             0.1111111111111111,
             "#46039f"
            ],
            [
             0.2222222222222222,
             "#7201a8"
            ],
            [
             0.3333333333333333,
             "#9c179e"
            ],
            [
             0.4444444444444444,
             "#bd3786"
            ],
            [
             0.5555555555555556,
             "#d8576b"
            ],
            [
             0.6666666666666666,
             "#ed7953"
            ],
            [
             0.7777777777777778,
             "#fb9f3a"
            ],
            [
             0.8888888888888888,
             "#fdca26"
            ],
            [
             1,
             "#f0f921"
            ]
           ],
           "sequentialminus": [
            [
             0,
             "#0d0887"
            ],
            [
             0.1111111111111111,
             "#46039f"
            ],
            [
             0.2222222222222222,
             "#7201a8"
            ],
            [
             0.3333333333333333,
             "#9c179e"
            ],
            [
             0.4444444444444444,
             "#bd3786"
            ],
            [
             0.5555555555555556,
             "#d8576b"
            ],
            [
             0.6666666666666666,
             "#ed7953"
            ],
            [
             0.7777777777777778,
             "#fb9f3a"
            ],
            [
             0.8888888888888888,
             "#fdca26"
            ],
            [
             1,
             "#f0f921"
            ]
           ]
          },
          "colorway": [
           "#636efa",
           "#EF553B",
           "#00cc96",
           "#ab63fa",
           "#FFA15A",
           "#19d3f3",
           "#FF6692",
           "#B6E880",
           "#FF97FF",
           "#FECB52"
          ],
          "font": {
           "color": "#2a3f5f"
          },
          "geo": {
           "bgcolor": "white",
           "lakecolor": "white",
           "landcolor": "#E5ECF6",
           "showlakes": true,
           "showland": true,
           "subunitcolor": "white"
          },
          "hoverlabel": {
           "align": "left"
          },
          "hovermode": "closest",
          "mapbox": {
           "style": "light"
          },
          "paper_bgcolor": "white",
          "plot_bgcolor": "#E5ECF6",
          "polar": {
           "angularaxis": {
            "gridcolor": "white",
            "linecolor": "white",
            "ticks": ""
           },
           "bgcolor": "#E5ECF6",
           "radialaxis": {
            "gridcolor": "white",
            "linecolor": "white",
            "ticks": ""
           }
          },
          "scene": {
           "xaxis": {
            "backgroundcolor": "#E5ECF6",
            "gridcolor": "white",
            "gridwidth": 2,
            "linecolor": "white",
            "showbackground": true,
            "ticks": "",
            "zerolinecolor": "white"
           },
           "yaxis": {
            "backgroundcolor": "#E5ECF6",
            "gridcolor": "white",
            "gridwidth": 2,
            "linecolor": "white",
            "showbackground": true,
            "ticks": "",
            "zerolinecolor": "white"
           },
           "zaxis": {
            "backgroundcolor": "#E5ECF6",
            "gridcolor": "white",
            "gridwidth": 2,
            "linecolor": "white",
            "showbackground": true,
            "ticks": "",
            "zerolinecolor": "white"
           }
          },
          "shapedefaults": {
           "line": {
            "color": "#2a3f5f"
           }
          },
          "ternary": {
           "aaxis": {
            "gridcolor": "white",
            "linecolor": "white",
            "ticks": ""
           },
           "baxis": {
            "gridcolor": "white",
            "linecolor": "white",
            "ticks": ""
           },
           "bgcolor": "#E5ECF6",
           "caxis": {
            "gridcolor": "white",
            "linecolor": "white",
            "ticks": ""
           }
          },
          "title": {
           "x": 0.05
          },
          "xaxis": {
           "automargin": true,
           "gridcolor": "white",
           "linecolor": "white",
           "ticks": "",
           "title": {
            "standoff": 15
           },
           "zerolinecolor": "white",
           "zerolinewidth": 2
          },
          "yaxis": {
           "automargin": true,
           "gridcolor": "white",
           "linecolor": "white",
           "ticks": "",
           "title": {
            "standoff": 15
           },
           "zerolinecolor": "white",
           "zerolinewidth": 2
          }
         }
        },
        "xaxis": {
         "anchor": "y",
         "autorange": true,
         "domain": [
          0,
          1
         ],
         "range": [
          "2024-07-08",
          "2024-08-28"
         ],
         "title": {
          "text": "date"
         },
         "type": "date"
        },
        "yaxis": {
         "anchor": "x",
         "autorange": true,
         "domain": [
          0,
          1
         ],
         "range": [
          67.09815035921928,
          146.88549269392954
         ],
         "title": {
          "text": "consumed_cal_as_percent_of_min"
         },
         "type": "linear"
        }
       }
      },
      "image/png": "[encoded data removed]",
      "text/html": [
       "<div>                            <div id=\"3d086912-7a47-4b77-9e41-5471bbfa0c02\" class=\"plotly-graph-div\" style=\"height:525px; width:100%;\"></div>            <script type=\"text/javascript\">                require([\"plotly\"], function(Plotly) {                    window.PLOTLYENV=window.PLOTLYENV || {};                                    if (document.getElementById(\"3d086912-7a47-4b77-9e41-5471bbfa0c02\")) {                    Plotly.newPlot(                        \"3d086912-7a47-4b77-9e41-5471bbfa0c02\",                        [{\"hovertemplate\":\"date=%{x}\\u003cbr\\u003econsumed_cal_as_percent_of_min=%{y}\\u003cextra\\u003e\\u003c\\u002fextra\\u003e\",\"legendgroup\":\"\",\"line\":{\"color\":\"#636efa\",\"dash\":\"solid\"},\"marker\":{\"symbol\":\"circle\"},\"mode\":\"lines\",\"name\":\"\",\"orientation\":\"v\",\"showlegend\":false,\"x\":[\"2024-07-08T00:00:00\",\"2024-07-09T00:00:00\",\"2024-07-10T00:00:00\",\"2024-07-11T00:00:00\",\"2024-07-12T00:00:00\",\"2024-07-13T00:00:00\",\"2024-07-14T00:00:00\",\"2024-07-15T00:00:00\",\"2024-07-16T00:00:00\",\"2024-07-17T00:00:00\",\"2024-07-18T00:00:00\",\"2024-07-19T00:00:00\",\"2024-07-20T00:00:00\",\"2024-07-21T00:00:00\",\"2024-07-22T00:00:00\",\"2024-07-23T00:00:00\",\"2024-07-24T00:00:00\",\"2024-07-25T00:00:00\",\"2024-07-26T00:00:00\",\"2024-07-27T00:00:00\",\"2024-07-28T00:00:00\",\"2024-07-29T00:00:00\",\"2024-07-30T00:00:00\",\"2024-07-31T00:00:00\",\"2024-08-01T00:00:00\",\"2024-08-02T00:00:00\",\"2024-08-03T00:00:00\",\"2024-08-04T00:00:00\",\"2024-08-05T00:00:00\",\"2024-08-06T00:00:00\",\"2024-08-07T00:00:00\",\"2024-08-08T00:00:00\",\"2024-08-09T00:00:00\",\"2024-08-10T00:00:00\",\"2024-08-11T00:00:00\",\"2024-08-12T00:00:00\",\"2024-08-13T00:00:00\",\"2024-08-14T00:00:00\",\"2024-08-15T00:00:00\",\"2024-08-16T00:00:00\",\"2024-08-17T00:00:00\",\"2024-08-18T00:00:00\",\"2024-08-19T00:00:00\",\"2024-08-20T00:00:00\",\"2024-08-21T00:00:00\",\"2024-08-22T00:00:00\",\"2024-08-23T00:00:00\",\"2024-08-24T00:00:00\",\"2024-08-25T00:00:00\",\"2024-08-26T00:00:00\",\"2024-08-27T00:00:00\",\"2024-08-28T00:00:00\"],\"xaxis\":\"x\",\"y\":[71.08751747595478,103.02556400302493,121.39261455290954,131.47288387657207,122.16959271578817,142.5141525069529,128.48765198761723,136.5845823165632,111.53481355581165,133.74765406144166,114.48114888195887,127.7487712695221,111.2326801268196,117.52886956796034,139.2461606837791,136.5086870137179,126.47128355682689,136.32618876904718,113.14891169586244,121.5073313017826,113.87890467454542,123.7338098867657,128.38751512586973,142.89612557719403,114.3351502862223,123.82083273396131,108.0875630091886,101.1649243302886,111.9422140917579,101.87292146790337,101.4009233761602,111.15555060551928,109.97555537616131,124.7648289174477,110.13288807340906,105.88490524772043,112.24108662080991,103.74869671255192,107.14565267585512,95.96400596331542,105.87179418961641,109.48105990062606,100.56405049695516,92.77935974771866,104.59793570337771,107.61556491744541,115.33218488245605,114.0808411043462,108.6583513992036,93.01655417283072,98.77302724066233,80.87368235710315],\"yaxis\":\"y\",\"type\":\"scatter\"}],                        {\"template\":{\"data\":{\"histogram2dcontour\":[{\"type\":\"histogram2dcontour\",\"colorbar\":{\"outlinewidth\":0,\"ticks\":\"\"},\"colorscale\":[[0.0,\"#0d0887\"],[0.1111111111111111,\"#46039f\"],[0.2222222222222222,\"#7201a8\"],[0.3333333333333333,\"#9c179e\"],[0.4444444444444444,\"#bd3786\"],[0.5555555555555556,\"#d8576b\"],[0.6666666666666666,\"#ed7953\"],[0.7777777777777778,\"#fb9f3a\"],[0.8888888888888888,\"#fdca26\"],[1.0,\"#f0f921\"]]}],\"choropleth\":[{\"type\":\"choropleth\",\"colorbar\":{\"outlinewidth\":0,\"ticks\":\"\"}}],\"histogram2d\":[{\"type\":\"histogram2d\",\"colorbar\":{\"outlinewidth\":0,\"ticks\":\"\"},\"colorscale\":[[0.0,\"#0d0887\"],[0.1111111111111111,\"#46039f\"],[0.2222222222222222,\"#7201a8\"],[0.3333333333333333,\"#9c179e\"],[0.4444444444444444,\"#bd3786\"],[0.5555555555555556,\"#d8576b\"],[0.6666666666666666,\"#ed7953\"],[0.7777777777777778,\"#fb9f3a\"],[0.8888888888888888,\"#fdca26\"],[1.0,\"#f0f921\"]]}],\"heatmap\":[{\"type\":\"heatmap\",\"colorbar\":{\"outlinewidth\":0,\"ticks\":\"\"},\"colorscale\":[[0.0,\"#0d0887\"],[0.1111111111111111,\"#46039f\"],[0.2222222222222222,\"#7201a8\"],[0.3333333333333333,\"#9c179e\"],[0.4444444444444444,\"#bd3786\"],[0.5555555555555556,\"#d8576b\"],[0.6666666666666666,\"#ed7953\"],[0.7777777777777778,\"#fb9f3a\"],[0.8888888888888888,\"#fdca26\"],[1.0,\"#f0f921\"]]}],\"heatmapgl\":[{\"type\":\"heatmapgl\",\"colorbar\":{\"outlinewidth\":0,\"ticks\":\"\"},\"colorscale\":[[0.0,\"#0d0887\"],[0.1111111111111111,\"#46039f\"],[0.2222222222222222,\"#7201a8\"],[0.3333333333333333,\"#9c179e\"],[0.4444444444444444,\"#bd3786\"],[0.5555555555555556,\"#d8576b\"],[0.6666666666666666,\"#ed7953\"],[0.7777777777777778,\"#fb9f3a\"],[0.8888888888888888,\"#fdca26\"],[1.0,\"#f0f921\"]]}],\"contourcarpet\":[{\"type\":\"contourcarpet\",\"colorbar\":{\"outlinewidth\":0,\"ticks\":\"\"}}],\"contour\":[{\"type\":\"contour\",\"colorbar\":{\"outlinewidth\":0,\"ticks\":\"\"},\"colorscale\":[[0.0,\"#0d0887\"],[0.1111111111111111,\"#46039f\"],[0.2222222222222222,\"#7201a8\"],[0.3333333333333333,\"#9c179e\"],[0.4444444444444444,\"#bd3786\"],[0.5555555555555556,\"#d8576b\"],[0.6666666666666666,\"#ed7953\"],[0.7777777777777778,\"#fb9f3a\"],[0.8888888888888888,\"#fdca26\"],[1.0,\"#f0f921\"]]}],\"surface\":[{\"type\":\"surface\",\"colorbar\":{\"outlinewidth\":0,\"ticks\":\"\"},\"colorscale\":[[0.0,\"#0d0887\"],[0.1111111111111111,\"#46039f\"],[0.2222222222222222,\"#7201a8\"],[0.3333333333333333,\"#9c179e\"],[0.4444444444444444,\"#bd3786\"],[0.5555555555555556,\"#d8576b\"],[0.6666666666666666,\"#ed7953\"],[0.7777777777777778,\"#fb9f3a\"],[0.8888888888888888,\"#fdca26\"],[1.0,\"#f0f921\"]]}],\"mesh3d\":[{\"type\":\"mesh3d\",\"colorbar\":{\"outlinewidth\":0,\"ticks\":\"\"}}],\"scatter\":[{\"fillpattern\":{\"fillmode\":\"overlay\",\"size\":10,\"solidity\":0.2},\"type\":\"scatter\"}],\"parcoords\":[{\"type\":\"parcoords\",\"line\":{\"colorbar\":{\"outlinewidth\":0,\"ticks\":\"\"}}}],\"scatterpolargl\":[{\"type\":\"scatterpolargl\",\"marker\":{\"colorbar\":{\"outlinewidth\":0,\"ticks\":\"\"}}}],\"bar\":[{\"error_x\":{\"color\":\"#2a3f5f\"},\"error_y\":{\"color\":\"#2a3f5f\"},\"marker\":{\"line\":{\"color\":\"#E5ECF6\",\"width\":0.5},\"pattern\":{\"fillmode\":\"overlay\",\"size\":10,\"solidity\":0.2}},\"type\":\"bar\"}],\"scattergeo\":[{\"type\":\"scattergeo\",\"marker\":{\"colorbar\":{\"outlinewidth\":0,\"ticks\":\"\"}}}],\"scatterpolar\":[{\"type\":\"scatterpolar\",\"marker\":{\"colorbar\":{\"outlinewidth\":0,\"ticks\":\"\"}}}],\"histogram\":[{\"marker\":{\"pattern\":{\"fillmode\":\"overlay\",\"size\":10,\"solidity\":0.2}},\"type\":\"histogram\"}],\"scattergl\":[{\"type\":\"scattergl\",\"marker\":{\"colorbar\":{\"outlinewidth\":0,\"ticks\":\"\"}}}],\"scatter3d\":[{\"type\":\"scatter3d\",\"line\":{\"colorbar\":{\"outlinewidth\":0,\"ticks\":\"\"}},\"marker\":{\"colorbar\":{\"outlinewidth\":0,\"ticks\":\"\"}}}],\"scattermapbox\":[{\"type\":\"scattermapbox\",\"marker\":{\"colorbar\":{\"outlinewidth\":0,\"ticks\":\"\"}}}],\"scatterternary\":[{\"type\":\"scatterternary\",\"marker\":{\"colorbar\":{\"outlinewidth\":0,\"ticks\":\"\"}}}],\"scattercarpet\":[{\"type\":\"scattercarpet\",\"marker\":{\"colorbar\":{\"outlinewidth\":0,\"ticks\":\"\"}}}],\"carpet\":[{\"aaxis\":{\"endlinecolor\":\"#2a3f5f\",\"gridcolor\":\"white\",\"linecolor\":\"white\",\"minorgridcolor\":\"white\",\"startlinecolor\":\"#2a3f5f\"},\"baxis\":{\"endlinecolor\":\"#2a3f5f\",\"gridcolor\":\"white\",\"linecolor\":\"white\",\"minorgridcolor\":\"white\",\"startlinecolor\":\"#2a3f5f\"},\"type\":\"carpet\"}],\"table\":[{\"cells\":{\"fill\":{\"color\":\"#EBF0F8\"},\"line\":{\"color\":\"white\"}},\"header\":{\"fill\":{\"color\":\"#C8D4E3\"},\"line\":{\"color\":\"white\"}},\"type\":\"table\"}],\"barpolar\":[{\"marker\":{\"line\":{\"color\":\"#E5ECF6\",\"width\":0.5},\"pattern\":{\"fillmode\":\"overlay\",\"size\":10,\"solidity\":0.2}},\"type\":\"barpolar\"}],\"pie\":[{\"automargin\":true,\"type\":\"pie\"}]},\"layout\":{\"autotypenumbers\":\"strict\",\"colorway\":[\"#636efa\",\"#EF553B\",\"#00cc96\",\"#ab63fa\",\"#FFA15A\",\"#19d3f3\",\"#FF6692\",\"#B6E880\",\"#FF97FF\",\"#FECB52\"],\"font\":{\"color\":\"#2a3f5f\"},\"hovermode\":\"closest\",\"hoverlabel\":{\"align\":\"left\"},\"paper_bgcolor\":\"white\",\"plot_bgcolor\":\"#E5ECF6\",\"polar\":{\"bgcolor\":\"#E5ECF6\",\"angularaxis\":{\"gridcolor\":\"white\",\"linecolor\":\"white\",\"ticks\":\"\"},\"radialaxis\":{\"gridcolor\":\"white\",\"linecolor\":\"white\",\"ticks\":\"\"}},\"ternary\":{\"bgcolor\":\"#E5ECF6\",\"aaxis\":{\"gridcolor\":\"white\",\"linecolor\":\"white\",\"ticks\":\"\"},\"baxis\":{\"gridcolor\":\"white\",\"linecolor\":\"white\",\"ticks\":\"\"},\"caxis\":{\"gridcolor\":\"white\",\"linecolor\":\"white\",\"ticks\":\"\"}},\"coloraxis\":{\"colorbar\":{\"outlinewidth\":0,\"ticks\":\"\"}},\"colorscale\":{\"sequential\":[[0.0,\"#0d0887\"],[0.1111111111111111,\"#46039f\"],[0.2222222222222222,\"#7201a8\"],[0.3333333333333333,\"#9c179e\"],[0.4444444444444444,\"#bd3786\"],[0.5555555555555556,\"#d8576b\"],[0.6666666666666666,\"#ed7953\"],[0.7777777777777778,\"#fb9f3a\"],[0.8888888888888888,\"#fdca26\"],[1.0,\"#f0f921\"]],\"sequentialminus\":[[0.0,\"#0d0887\"],[0.1111111111111111,\"#46039f\"],[0.2222222222222222,\"#7201a8\"],[0.3333333333333333,\"#9c179e\"],[0.4444444444444444,\"#bd3786\"],[0.5555555555555556,\"#d8576b\"],[0.6666666666666666,\"#ed7953\"],[0.7777777777777778,\"#fb9f3a\"],[0.8888888888888888,\"#fdca26\"],[1.0,\"#f0f921\"]],\"diverging\":[[0,\"#8e0152\"],[0.1,\"#c51b7d\"],[0.2,\"#de77ae\"],[0.3,\"#f1b6da\"],[0.4,\"#fde0ef\"],[0.5,\"#f7f7f7\"],[0.6,\"#e6f5d0\"],[0.7,\"#b8e186\"],[0.8,\"#7fbc41\"],[0.9,\"#4d9221\"],[1,\"#276419\"]]},\"xaxis\":{\"gridcolor\":\"white\",\"linecolor\":\"white\",\"ticks\":\"\",\"title\":{\"standoff\":15},\"zerolinecolor\":\"white\",\"automargin\":true,\"zerolinewidth\":2},\"yaxis\":{\"gridcolor\":\"white\",\"linecolor\":\"white\",\"ticks\":\"\",\"title\":{\"standoff\":15},\"zerolinecolor\":\"white\",\"automargin\":true,\"zerolinewidth\":2},\"scene\":{\"xaxis\":{\"backgroundcolor\":\"#E5ECF6\",\"gridcolor\":\"white\",\"linecolor\":\"white\",\"showbackground\":true,\"ticks\":\"\",\"zerolinecolor\":\"white\",\"gridwidth\":2},\"yaxis\":{\"backgroundcolor\":\"#E5ECF6\",\"gridcolor\":\"white\",\"linecolor\":\"white\",\"showbackground\":true,\"ticks\":\"\",\"zerolinecolor\":\"white\",\"gridwidth\":2},\"zaxis\":{\"backgroundcolor\":\"#E5ECF6\",\"gridcolor\":\"white\",\"linecolor\":\"white\",\"showbackground\":true,\"ticks\":\"\",\"zerolinecolor\":\"white\",\"gridwidth\":2}},\"shapedefaults\":{\"line\":{\"color\":\"#2a3f5f\"}},\"annotationdefaults\":{\"arrowcolor\":\"#2a3f5f\",\"arrowhead\":0,\"arrowwidth\":1},\"geo\":{\"bgcolor\":\"white\",\"landcolor\":\"#E5ECF6\",\"subunitcolor\":\"white\",\"showland\":true,\"showlakes\":true,\"lakecolor\":\"white\"},\"title\":{\"x\":0.05},\"mapbox\":{\"style\":\"light\"}}},\"xaxis\":{\"anchor\":\"y\",\"domain\":[0.0,1.0],\"title\":{\"text\":\"date\"}},\"yaxis\":{\"anchor\":\"x\",\"domain\":[0.0,1.0],\"title\":{\"text\":\"consumed_cal_as_percent_of_min\"}},\"legend\":{\"tracegroupgap\":0},\"margin\":{\"t\":60}},                        {\"responsive\": true}                    ).then(function(){\n",
       "                            \n",
       "var gd = document.getElementById('3d086912-7a47-4b77-9e41-5471bbfa0c02');\n",
       "var x = new MutationObserver(function (mutations, observer) {{\n",
       "        var display = window.getComputedStyle(gd).display;\n",
       "        if (!display || display === 'none') {{\n",
       "            console.log([gd, 'removed!']);\n",
       "            Plotly.purge(gd);\n",
       "            observer.disconnect();\n",
       "        }}\n",
       "}});\n",
       "\n",
       "// Listen for the removal of the full notebook cells\n",
       "var notebookContainer = gd.closest('#notebook-container');\n",
       "if (notebookContainer) {{\n",
       "    x.observe(notebookContainer, {childList: true});\n",
       "}}\n",
       "\n",
       "// Listen for the clearing of the current output cell\n",
       "var outputEl = gd.closest('.output');\n",
       "if (outputEl) {{\n",
       "    x.observe(outputEl, {childList: true});\n",
       "}}\n",
       "\n",
       "                        })                };                });            </script>        </div>"
      ]
     },
     "metadata": {},
     "output_type": "display_data"
    }
   ],
   "source": [
    "px.line(overall_df,x='date',y='consumed_cal_as_percent_of_min')"
   ]
  },
  {
   "cell_type": "code",
   "execution_count": null,
   "id": "d116d41c-4504-49e1-b857-1d5524ec3db9",
   "metadata": {},
   "outputs": [],
   "source": []
  }
 ],
 "metadata": {
  "kernelspec": {
   "display_name": "Python 3 (ipykernel)",
   "language": "python",
   "name": "python3"
  },
  "language_info": {
   "codemirror_mode": {
    "name": "ipython",
    "version": 3
   },
   "file_extension": ".py",
   "mimetype": "text/x-python",
   "name": "python",
   "nbconvert_exporter": "python",
   "pygments_lexer": "ipython3",
   "version": "3.9.18"
  }
 },
 "nbformat": 4,
 "nbformat_minor": 5
}
